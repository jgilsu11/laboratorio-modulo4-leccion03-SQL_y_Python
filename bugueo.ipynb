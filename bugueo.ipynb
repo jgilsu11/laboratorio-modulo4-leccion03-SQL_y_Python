{
 "cells": [
  {
   "cell_type": "code",
   "execution_count": 1,
   "metadata": {},
   "outputs": [],
   "source": [
    "import pandas as pd\n",
    "import re\n",
    "from datetime import datetime\n",
    "import psycopg2\n",
    "from psycopg2 import OperationalError, errorcodes, errors\n"
   ]
  },
  {
   "cell_type": "code",
   "execution_count": 2,
   "metadata": {},
   "outputs": [],
   "source": [
    "df_foursq= pd.read_csv(\"datos/api_foursquare.csv\", index_col=0)\n",
    "df_aemet= pd.read_csv(\"datos/df_aemet_final.csv\")\n",
    "df_municipios= pd.read_csv(\"datos/municipios.csv\", index_col=0)"
   ]
  },
  {
   "cell_type": "code",
   "execution_count": 3,
   "metadata": {},
   "outputs": [
    {
     "data": {
      "text/html": [
       "<div>\n",
       "<style scoped>\n",
       "    .dataframe tbody tr th:only-of-type {\n",
       "        vertical-align: middle;\n",
       "    }\n",
       "\n",
       "    .dataframe tbody tr th {\n",
       "        vertical-align: top;\n",
       "    }\n",
       "\n",
       "    .dataframe thead th {\n",
       "        text-align: right;\n",
       "    }\n",
       "</style>\n",
       "<table border=\"1\" class=\"dataframe\">\n",
       "  <thead>\n",
       "    <tr style=\"text-align: right;\">\n",
       "      <th></th>\n",
       "      <th>acebeda-la</th>\n",
       "      <th>ajalvir</th>\n",
       "      <th>alameda-del-valle</th>\n",
       "      <th>alamo-el</th>\n",
       "      <th>alcala-de-henares</th>\n",
       "      <th>alcobendas</th>\n",
       "      <th>alcorcon</th>\n",
       "      <th>aldea-del-fresno</th>\n",
       "      <th>algete</th>\n",
       "      <th>alpedrete</th>\n",
       "      <th>...</th>\n",
       "      <th>villamanta</th>\n",
       "      <th>villamantilla</th>\n",
       "      <th>villanueva-de-la-canada</th>\n",
       "      <th>villanueva-del-pardillo</th>\n",
       "      <th>villanueva-de-perales</th>\n",
       "      <th>villar-del-olmo</th>\n",
       "      <th>villarejo-de-salvanes</th>\n",
       "      <th>villaviciosa-de-odon</th>\n",
       "      <th>villavieja-del-lozoya</th>\n",
       "      <th>zarzalejo</th>\n",
       "    </tr>\n",
       "  </thead>\n",
       "  <tbody>\n",
       "    <tr>\n",
       "      <th>0</th>\n",
       "      <td>41.0869583</td>\n",
       "      <td>40.5342302</td>\n",
       "      <td>40.9177178</td>\n",
       "      <td>40.2307296</td>\n",
       "      <td>40.4818396</td>\n",
       "      <td>40.5400082</td>\n",
       "      <td>40.3492998</td>\n",
       "      <td>40.3215212</td>\n",
       "      <td>40.5961652</td>\n",
       "      <td>40.6599005</td>\n",
       "      <td>...</td>\n",
       "      <td>40.2990939</td>\n",
       "      <td>40.3421033</td>\n",
       "      <td>40.4472106</td>\n",
       "      <td>40.4949232</td>\n",
       "      <td>40.3466066</td>\n",
       "      <td>40.3364465</td>\n",
       "      <td>40.1683582</td>\n",
       "      <td>40.3573787</td>\n",
       "      <td>41.0063622</td>\n",
       "      <td>40.5483016</td>\n",
       "    </tr>\n",
       "    <tr>\n",
       "      <th>2</th>\n",
       "      <td>La Acebeda</td>\n",
       "      <td>Ajalvir</td>\n",
       "      <td>Alameda del Valle</td>\n",
       "      <td>El Álamo</td>\n",
       "      <td>Alcalá de Henares</td>\n",
       "      <td>Alcobendas</td>\n",
       "      <td>Alcorcón</td>\n",
       "      <td>Aldea del Fresno</td>\n",
       "      <td>Algete</td>\n",
       "      <td>Alpedrete</td>\n",
       "      <td>...</td>\n",
       "      <td>Villamanta</td>\n",
       "      <td>Villamantilla</td>\n",
       "      <td>Villanueva de la Cañada</td>\n",
       "      <td>Villanueva del Pardillo</td>\n",
       "      <td>Villanueva de Perales</td>\n",
       "      <td>Villar del Olmo</td>\n",
       "      <td>Villarejo de Salvanés</td>\n",
       "      <td>Villaviciosa de Odón</td>\n",
       "      <td>Villavieja del Lozoya</td>\n",
       "      <td>Zarzalejo</td>\n",
       "    </tr>\n",
       "  </tbody>\n",
       "</table>\n",
       "<p>2 rows × 176 columns</p>\n",
       "</div>"
      ],
      "text/plain": [
       "   acebeda-la     ajalvir  alameda-del-valle    alamo-el  alcala-de-henares  \\\n",
       "0  41.0869583  40.5342302         40.9177178  40.2307296         40.4818396   \n",
       "2  La Acebeda     Ajalvir  Alameda del Valle    El Álamo  Alcalá de Henares   \n",
       "\n",
       "   alcobendas    alcorcon  aldea-del-fresno      algete   alpedrete  ...  \\\n",
       "0  40.5400082  40.3492998        40.3215212  40.5961652  40.6599005  ...   \n",
       "2  Alcobendas    Alcorcón  Aldea del Fresno      Algete   Alpedrete  ...   \n",
       "\n",
       "   villamanta  villamantilla  villanueva-de-la-canada  \\\n",
       "0  40.2990939     40.3421033               40.4472106   \n",
       "2  Villamanta  Villamantilla  Villanueva de la Cañada   \n",
       "\n",
       "   villanueva-del-pardillo  villanueva-de-perales  villar-del-olmo  \\\n",
       "0               40.4949232             40.3466066       40.3364465   \n",
       "2  Villanueva del Pardillo  Villanueva de Perales  Villar del Olmo   \n",
       "\n",
       "   villarejo-de-salvanes  villaviciosa-de-odon  villavieja-del-lozoya  \\\n",
       "0             40.1683582            40.3573787             41.0063622   \n",
       "2  Villarejo de Salvanés  Villaviciosa de Odón  Villavieja del Lozoya   \n",
       "\n",
       "    zarzalejo  \n",
       "0  40.5483016  \n",
       "2   Zarzalejo  \n",
       "\n",
       "[2 rows x 176 columns]"
      ]
     },
     "execution_count": 3,
     "metadata": {},
     "output_type": "execute_result"
    }
   ],
   "source": [
    "df_municipios.sample(2)"
   ]
  },
  {
   "cell_type": "code",
   "execution_count": 4,
   "metadata": {},
   "outputs": [],
   "source": [
    "df_foursq[\"id_municipio_cambiar\"]= df_foursq[\"municipio\"]\n",
    "df_foursq.drop(columns=\"municipio\", inplace=True)"
   ]
  },
  {
   "cell_type": "code",
   "execution_count": 5,
   "metadata": {},
   "outputs": [
    {
     "data": {
      "text/html": [
       "<div>\n",
       "<style scoped>\n",
       "    .dataframe tbody tr th:only-of-type {\n",
       "        vertical-align: middle;\n",
       "    }\n",
       "\n",
       "    .dataframe tbody tr th {\n",
       "        vertical-align: top;\n",
       "    }\n",
       "\n",
       "    .dataframe thead th {\n",
       "        text-align: right;\n",
       "    }\n",
       "</style>\n",
       "<table border=\"1\" class=\"dataframe\">\n",
       "  <thead>\n",
       "    <tr style=\"text-align: right;\">\n",
       "      <th></th>\n",
       "      <th>category</th>\n",
       "      <th>fsq_id</th>\n",
       "      <th>closed_bucket</th>\n",
       "      <th>distance</th>\n",
       "      <th>link</th>\n",
       "      <th>name</th>\n",
       "      <th>address</th>\n",
       "      <th>latitude</th>\n",
       "      <th>longitude</th>\n",
       "      <th>id_municipio_cambiar</th>\n",
       "    </tr>\n",
       "  </thead>\n",
       "  <tbody>\n",
       "    <tr>\n",
       "      <th>52</th>\n",
       "      <td>Monument</td>\n",
       "      <td>9d866cc87d374d9f58f4dc33</td>\n",
       "      <td>LikelyOpen</td>\n",
       "      <td>356.0</td>\n",
       "      <td>/v3/places/9d866cc87d374d9f58f4dc33</td>\n",
       "      <td>Convento de San Juan de la Penitencia</td>\n",
       "      <td>Calle Santiago, N, 3, 28801 Alcalá de Henares ...</td>\n",
       "      <td>40.482736</td>\n",
       "      <td>-3.368547</td>\n",
       "      <td>alcala-de-henares</td>\n",
       "    </tr>\n",
       "    <tr>\n",
       "      <th>366</th>\n",
       "      <td>Park</td>\n",
       "      <td>5326e731498e591bbc11b95a</td>\n",
       "      <td>VeryLikelyOpen</td>\n",
       "      <td>1892.0</td>\n",
       "      <td>/v3/places/5326e731498e591bbc11b95a</td>\n",
       "      <td>Puerta de Madrid de los Jardines del Buen Retiro</td>\n",
       "      <td>Madrid Comunidad de Madrid</td>\n",
       "      <td>40.420794</td>\n",
       "      <td>-3.681865</td>\n",
       "      <td>madrid</td>\n",
       "    </tr>\n",
       "  </tbody>\n",
       "</table>\n",
       "</div>"
      ],
      "text/plain": [
       "     category                    fsq_id   closed_bucket  distance  \\\n",
       "52   Monument  9d866cc87d374d9f58f4dc33      LikelyOpen     356.0   \n",
       "366      Park  5326e731498e591bbc11b95a  VeryLikelyOpen    1892.0   \n",
       "\n",
       "                                    link  \\\n",
       "52   /v3/places/9d866cc87d374d9f58f4dc33   \n",
       "366  /v3/places/5326e731498e591bbc11b95a   \n",
       "\n",
       "                                                 name  \\\n",
       "52              Convento de San Juan de la Penitencia   \n",
       "366  Puerta de Madrid de los Jardines del Buen Retiro   \n",
       "\n",
       "                                               address   latitude  longitude  \\\n",
       "52   Calle Santiago, N, 3, 28801 Alcalá de Henares ...  40.482736  -3.368547   \n",
       "366                         Madrid Comunidad de Madrid  40.420794  -3.681865   \n",
       "\n",
       "    id_municipio_cambiar  \n",
       "52     alcala-de-henares  \n",
       "366               madrid  "
      ]
     },
     "execution_count": 5,
     "metadata": {},
     "output_type": "execute_result"
    }
   ],
   "source": [
    "df_foursq.sample(2)"
   ]
  },
  {
   "cell_type": "code",
   "execution_count": 6,
   "metadata": {},
   "outputs": [
    {
     "data": {
      "text/html": [
       "<div>\n",
       "<style scoped>\n",
       "    .dataframe tbody tr th:only-of-type {\n",
       "        vertical-align: middle;\n",
       "    }\n",
       "\n",
       "    .dataframe tbody tr th {\n",
       "        vertical-align: top;\n",
       "    }\n",
       "\n",
       "    .dataframe thead th {\n",
       "        text-align: right;\n",
       "    }\n",
       "</style>\n",
       "<table border=\"1\" class=\"dataframe\">\n",
       "  <thead>\n",
       "    <tr style=\"text-align: right;\">\n",
       "      <th></th>\n",
       "      <th>fecha</th>\n",
       "      <th>cielo</th>\n",
       "      <th>temp._(°c)</th>\n",
       "      <th>sen._térmica_(°c)</th>\n",
       "      <th>racha_máx._(km/h)</th>\n",
       "      <th>precipitación_(mm)</th>\n",
       "      <th>nieve_(mm)</th>\n",
       "      <th>humedad_relativa_(%)</th>\n",
       "      <th>prob._precip.__(%)</th>\n",
       "      <th>prob._de_nieve_(%)</th>\n",
       "      <th>prob._de_tormenta_(%)</th>\n",
       "      <th>avisos</th>\n",
       "      <th>dirección_viento</th>\n",
       "      <th>velocidad_del_viento</th>\n",
       "      <th>localizacion_id</th>\n",
       "    </tr>\n",
       "  </thead>\n",
       "  <tbody>\n",
       "    <tr>\n",
       "      <th>4187</th>\n",
       "      <td>2024-08-29 13:00:00</td>\n",
       "      <td>Nubes altas</td>\n",
       "      <td>24</td>\n",
       "      <td>24</td>\n",
       "      <td>29.0</td>\n",
       "      <td>0.0</td>\n",
       "      <td>0</td>\n",
       "      <td>56</td>\n",
       "      <td>Riesgo</td>\n",
       "      <td>0</td>\n",
       "      <td>75</td>\n",
       "      <td>Riesgo</td>\n",
       "      <td>SE</td>\n",
       "      <td>11</td>\n",
       "      <td>navarredonda-y-san-mames-id28097</td>\n",
       "    </tr>\n",
       "    <tr>\n",
       "      <th>2911</th>\n",
       "      <td>2024-08-29 13:00:00</td>\n",
       "      <td>Nubes altas</td>\n",
       "      <td>24</td>\n",
       "      <td>24</td>\n",
       "      <td>21.0</td>\n",
       "      <td>0.0</td>\n",
       "      <td>0</td>\n",
       "      <td>66</td>\n",
       "      <td>Riesgo</td>\n",
       "      <td>0</td>\n",
       "      <td>70</td>\n",
       "      <td>Riesgo</td>\n",
       "      <td>E</td>\n",
       "      <td>9</td>\n",
       "      <td>guadalix-de-la-sierra-id28067</td>\n",
       "    </tr>\n",
       "  </tbody>\n",
       "</table>\n",
       "</div>"
      ],
      "text/plain": [
       "                    fecha        cielo  temp._(°c)  sen._térmica_(°c)  \\\n",
       "4187  2024-08-29 13:00:00  Nubes altas          24                 24   \n",
       "2911  2024-08-29 13:00:00  Nubes altas          24                 24   \n",
       "\n",
       "      racha_máx._(km/h)  precipitación_(mm)  nieve_(mm)  humedad_relativa_(%)  \\\n",
       "4187               29.0                 0.0           0                    56   \n",
       "2911               21.0                 0.0           0                    66   \n",
       "\n",
       "     prob._precip.__(%)  prob._de_nieve_(%)  prob._de_tormenta_(%)  avisos  \\\n",
       "4187             Riesgo                   0                     75  Riesgo   \n",
       "2911             Riesgo                   0                     70  Riesgo   \n",
       "\n",
       "     dirección_viento  velocidad_del_viento                   localizacion_id  \n",
       "4187               SE                    11  navarredonda-y-san-mames-id28097  \n",
       "2911                E                     9     guadalix-de-la-sierra-id28067  "
      ]
     },
     "execution_count": 6,
     "metadata": {},
     "output_type": "execute_result"
    }
   ],
   "source": [
    "df_aemet.sample(2)"
   ]
  },
  {
   "cell_type": "markdown",
   "metadata": {},
   "source": [
    "Separamos localización id "
   ]
  },
  {
   "cell_type": "code",
   "execution_count": 7,
   "metadata": {},
   "outputs": [
    {
     "data": {
      "text/plain": [
       "0       acebeda-la-id28001\n",
       "1       acebeda-la-id28001\n",
       "2       acebeda-la-id28001\n",
       "3       acebeda-la-id28001\n",
       "4       acebeda-la-id28001\n",
       "               ...        \n",
       "7880     zarzalejo-id28183\n",
       "7881     zarzalejo-id28183\n",
       "7882     zarzalejo-id28183\n",
       "7883     zarzalejo-id28183\n",
       "7884     zarzalejo-id28183\n",
       "Name: localizacion_id, Length: 7885, dtype: object"
      ]
     },
     "execution_count": 7,
     "metadata": {},
     "output_type": "execute_result"
    }
   ],
   "source": [
    "df_aemet[\"localizacion_id\"]"
   ]
  },
  {
   "cell_type": "code",
   "execution_count": 8,
   "metadata": {},
   "outputs": [],
   "source": [
    "df_aemet[\"id_municipio\"]=pd.DataFrame(df_aemet[\"localizacion_id\"].str.split(\"\\.*-id\\.*\").str[1])\n",
    "df_aemet[\"id_localizacion\"]= pd.DataFrame(df_aemet[\"localizacion_id\"].str.split(\"\\.*-id\\.*\").str[0])\n",
    "df_aemet.drop(columns=\"localizacion_id\", inplace=True)\n",
    "\n"
   ]
  },
  {
   "cell_type": "code",
   "execution_count": 9,
   "metadata": {},
   "outputs": [
    {
     "data": {
      "text/html": [
       "<div>\n",
       "<style scoped>\n",
       "    .dataframe tbody tr th:only-of-type {\n",
       "        vertical-align: middle;\n",
       "    }\n",
       "\n",
       "    .dataframe tbody tr th {\n",
       "        vertical-align: top;\n",
       "    }\n",
       "\n",
       "    .dataframe thead th {\n",
       "        text-align: right;\n",
       "    }\n",
       "</style>\n",
       "<table border=\"1\" class=\"dataframe\">\n",
       "  <thead>\n",
       "    <tr style=\"text-align: right;\">\n",
       "      <th></th>\n",
       "      <th>fecha</th>\n",
       "      <th>cielo</th>\n",
       "      <th>temp._(°c)</th>\n",
       "      <th>sen._térmica_(°c)</th>\n",
       "      <th>racha_máx._(km/h)</th>\n",
       "      <th>precipitación_(mm)</th>\n",
       "      <th>nieve_(mm)</th>\n",
       "      <th>humedad_relativa_(%)</th>\n",
       "      <th>prob._precip.__(%)</th>\n",
       "      <th>prob._de_nieve_(%)</th>\n",
       "      <th>prob._de_tormenta_(%)</th>\n",
       "      <th>avisos</th>\n",
       "      <th>dirección_viento</th>\n",
       "      <th>velocidad_del_viento</th>\n",
       "      <th>id_municipio</th>\n",
       "      <th>id_localizacion</th>\n",
       "    </tr>\n",
       "  </thead>\n",
       "  <tbody>\n",
       "    <tr>\n",
       "      <th>0</th>\n",
       "      <td>2024-08-29 12:00:00</td>\n",
       "      <td>Nubes altas</td>\n",
       "      <td>21</td>\n",
       "      <td>21</td>\n",
       "      <td>25.0</td>\n",
       "      <td>0.0</td>\n",
       "      <td>0</td>\n",
       "      <td>69</td>\n",
       "      <td>95</td>\n",
       "      <td>0</td>\n",
       "      <td>75</td>\n",
       "      <td>Riesgo</td>\n",
       "      <td>S</td>\n",
       "      <td>7</td>\n",
       "      <td>28001</td>\n",
       "      <td>acebeda-la</td>\n",
       "    </tr>\n",
       "    <tr>\n",
       "      <th>1</th>\n",
       "      <td>2024-08-29 13:00:00</td>\n",
       "      <td>Nubes altas</td>\n",
       "      <td>24</td>\n",
       "      <td>24</td>\n",
       "      <td>29.0</td>\n",
       "      <td>0.0</td>\n",
       "      <td>0</td>\n",
       "      <td>57</td>\n",
       "      <td>Riesgo</td>\n",
       "      <td>0</td>\n",
       "      <td>75</td>\n",
       "      <td>Riesgo</td>\n",
       "      <td>SE</td>\n",
       "      <td>12</td>\n",
       "      <td>28001</td>\n",
       "      <td>acebeda-la</td>\n",
       "    </tr>\n",
       "  </tbody>\n",
       "</table>\n",
       "</div>"
      ],
      "text/plain": [
       "                 fecha        cielo  temp._(°c)  sen._térmica_(°c)  \\\n",
       "0  2024-08-29 12:00:00  Nubes altas          21                 21   \n",
       "1  2024-08-29 13:00:00  Nubes altas          24                 24   \n",
       "\n",
       "   racha_máx._(km/h)  precipitación_(mm)  nieve_(mm)  humedad_relativa_(%)  \\\n",
       "0               25.0                 0.0           0                    69   \n",
       "1               29.0                 0.0           0                    57   \n",
       "\n",
       "  prob._precip.__(%)  prob._de_nieve_(%)  prob._de_tormenta_(%)  avisos  \\\n",
       "0                 95                   0                     75  Riesgo   \n",
       "1             Riesgo                   0                     75  Riesgo   \n",
       "\n",
       "  dirección_viento  velocidad_del_viento id_municipio id_localizacion  \n",
       "0                S                     7        28001      acebeda-la  \n",
       "1               SE                    12        28001      acebeda-la  "
      ]
     },
     "execution_count": 9,
     "metadata": {},
     "output_type": "execute_result"
    }
   ],
   "source": [
    "df_aemet.head(2)"
   ]
  },
  {
   "cell_type": "code",
   "execution_count": 10,
   "metadata": {},
   "outputs": [],
   "source": [
    "def crear_df_id (df, col):\n",
    "    df_nuevo= pd.DataFrame(df[col])\n",
    "    df_nuevo[f\"id_{col}\"]= pd.RangeIndex(start=1,stop = len(df_nuevo)+1,step=1)\n",
    "    return df_nuevo"
   ]
  },
  {
   "cell_type": "markdown",
   "metadata": {},
   "source": [
    "Traspongo municipios para que se convierta el municipio en su id"
   ]
  },
  {
   "cell_type": "markdown",
   "metadata": {},
   "source": [
    "creamos dicc entre id_mun y id_loc"
   ]
  },
  {
   "cell_type": "code",
   "execution_count": 11,
   "metadata": {},
   "outputs": [],
   "source": [
    "lista_mun=[]\n",
    "for nombre in df_aemet[\"id_localizacion\"].unique():\n",
    "    lista_mun.append(nombre)\n",
    "# lista_mun  "
   ]
  },
  {
   "cell_type": "markdown",
   "metadata": {},
   "source": [
    "Nombro las columnas"
   ]
  },
  {
   "cell_type": "markdown",
   "metadata": {},
   "source": [
    "Meter id_municipio en tods las tablas"
   ]
  },
  {
   "cell_type": "code",
   "execution_count": null,
   "metadata": {},
   "outputs": [],
   "source": []
  },
  {
   "cell_type": "code",
   "execution_count": 15,
   "metadata": {},
   "outputs": [
    {
     "data": {
      "text/html": [
       "<div>\n",
       "<style scoped>\n",
       "    .dataframe tbody tr th:only-of-type {\n",
       "        vertical-align: middle;\n",
       "    }\n",
       "\n",
       "    .dataframe tbody tr th {\n",
       "        vertical-align: top;\n",
       "    }\n",
       "\n",
       "    .dataframe thead th {\n",
       "        text-align: right;\n",
       "    }\n",
       "</style>\n",
       "<table border=\"1\" class=\"dataframe\">\n",
       "  <thead>\n",
       "    <tr style=\"text-align: right;\">\n",
       "      <th></th>\n",
       "      <th>fecha</th>\n",
       "      <th>cielo</th>\n",
       "      <th>temp._(°c)</th>\n",
       "      <th>sen._térmica_(°c)</th>\n",
       "      <th>racha_máx._(km/h)</th>\n",
       "      <th>precipitación_(mm)</th>\n",
       "      <th>nieve_(mm)</th>\n",
       "      <th>humedad_relativa_(%)</th>\n",
       "      <th>prob._precip.__(%)</th>\n",
       "      <th>prob._de_nieve_(%)</th>\n",
       "      <th>prob._de_tormenta_(%)</th>\n",
       "      <th>avisos</th>\n",
       "      <th>dirección_viento</th>\n",
       "      <th>velocidad_del_viento</th>\n",
       "      <th>id_municipio</th>\n",
       "      <th>id_localizacion</th>\n",
       "    </tr>\n",
       "  </thead>\n",
       "  <tbody>\n",
       "    <tr>\n",
       "      <th>0</th>\n",
       "      <td>2024-08-29 12:00:00</td>\n",
       "      <td>Nubes altas</td>\n",
       "      <td>21</td>\n",
       "      <td>21</td>\n",
       "      <td>25.0</td>\n",
       "      <td>0.0</td>\n",
       "      <td>0</td>\n",
       "      <td>69</td>\n",
       "      <td>95</td>\n",
       "      <td>0</td>\n",
       "      <td>75</td>\n",
       "      <td>Riesgo</td>\n",
       "      <td>S</td>\n",
       "      <td>7</td>\n",
       "      <td>28001</td>\n",
       "      <td>acebeda-la</td>\n",
       "    </tr>\n",
       "    <tr>\n",
       "      <th>1</th>\n",
       "      <td>2024-08-29 13:00:00</td>\n",
       "      <td>Nubes altas</td>\n",
       "      <td>24</td>\n",
       "      <td>24</td>\n",
       "      <td>29.0</td>\n",
       "      <td>0.0</td>\n",
       "      <td>0</td>\n",
       "      <td>57</td>\n",
       "      <td>Riesgo</td>\n",
       "      <td>0</td>\n",
       "      <td>75</td>\n",
       "      <td>Riesgo</td>\n",
       "      <td>SE</td>\n",
       "      <td>12</td>\n",
       "      <td>28001</td>\n",
       "      <td>acebeda-la</td>\n",
       "    </tr>\n",
       "    <tr>\n",
       "      <th>2</th>\n",
       "      <td>2024-08-29 14:00:00</td>\n",
       "      <td>Muy nuboso</td>\n",
       "      <td>23</td>\n",
       "      <td>23</td>\n",
       "      <td>33.0</td>\n",
       "      <td>0.0</td>\n",
       "      <td>0</td>\n",
       "      <td>59</td>\n",
       "      <td>100</td>\n",
       "      <td>0</td>\n",
       "      <td>80</td>\n",
       "      <td>Riesgo</td>\n",
       "      <td>S</td>\n",
       "      <td>14</td>\n",
       "      <td>28001</td>\n",
       "      <td>acebeda-la</td>\n",
       "    </tr>\n",
       "    <tr>\n",
       "      <th>3</th>\n",
       "      <td>2024-08-29 15:00:00</td>\n",
       "      <td>Nubes altas</td>\n",
       "      <td>23</td>\n",
       "      <td>23</td>\n",
       "      <td>35.0</td>\n",
       "      <td>0.0</td>\n",
       "      <td>0</td>\n",
       "      <td>55</td>\n",
       "      <td>Riesgo</td>\n",
       "      <td>0</td>\n",
       "      <td>80</td>\n",
       "      <td>Riesgo</td>\n",
       "      <td>S</td>\n",
       "      <td>17</td>\n",
       "      <td>28001</td>\n",
       "      <td>acebeda-la</td>\n",
       "    </tr>\n",
       "  </tbody>\n",
       "</table>\n",
       "</div>"
      ],
      "text/plain": [
       "                 fecha        cielo  temp._(°c)  sen._térmica_(°c)  \\\n",
       "0  2024-08-29 12:00:00  Nubes altas          21                 21   \n",
       "1  2024-08-29 13:00:00  Nubes altas          24                 24   \n",
       "2  2024-08-29 14:00:00   Muy nuboso          23                 23   \n",
       "3  2024-08-29 15:00:00  Nubes altas          23                 23   \n",
       "\n",
       "   racha_máx._(km/h)  precipitación_(mm)  nieve_(mm)  humedad_relativa_(%)  \\\n",
       "0               25.0                 0.0           0                    69   \n",
       "1               29.0                 0.0           0                    57   \n",
       "2               33.0                 0.0           0                    59   \n",
       "3               35.0                 0.0           0                    55   \n",
       "\n",
       "  prob._precip.__(%)  prob._de_nieve_(%)  prob._de_tormenta_(%)  avisos  \\\n",
       "0                 95                   0                     75  Riesgo   \n",
       "1             Riesgo                   0                     75  Riesgo   \n",
       "2                100                   0                     80  Riesgo   \n",
       "3             Riesgo                   0                     80  Riesgo   \n",
       "\n",
       "  dirección_viento  velocidad_del_viento id_municipio id_localizacion  \n",
       "0                S                     7        28001      acebeda-la  \n",
       "1               SE                    12        28001      acebeda-la  \n",
       "2                S                    14        28001      acebeda-la  \n",
       "3                S                    17        28001      acebeda-la  "
      ]
     },
     "execution_count": 15,
     "metadata": {},
     "output_type": "execute_result"
    }
   ],
   "source": [
    "df_aemet.head(4)"
   ]
  },
  {
   "cell_type": "markdown",
   "metadata": {},
   "source": [
    "Monto las tablas que no tienen foreign keys"
   ]
  },
  {
   "cell_type": "code",
   "execution_count": 17,
   "metadata": {},
   "outputs": [],
   "source": [
    "def crear_df_id (df, col):\n",
    "    df_nuevo= pd.DataFrame(df[col])\n",
    "    df_nuevo[f\"id_{col}\"]= pd.RangeIndex(start=1,stop = len(df_nuevo)+1,step=1)\n",
    "    return df_nuevo"
   ]
  },
  {
   "cell_type": "code",
   "execution_count": 18,
   "metadata": {},
   "outputs": [
    {
     "data": {
      "text/plain": [
       "['Nubes altas',\n",
       " 'Muy nuboso',\n",
       " 'Cubierto con tormenta y lluvia escasa',\n",
       " 'Nuboso',\n",
       " 'Cielo despejado',\n",
       " 'Poco nuboso',\n",
       " 'Intervalos nubosos con lluvia escasa',\n",
       " 'Cubierto',\n",
       " 'Cubierto con lluvia escasa',\n",
       " 'Cubierto con lluvia',\n",
       " 'Muy nuboso con tormenta y lluvia escasa',\n",
       " 'Muy nuboso con lluvia',\n",
       " 'Intervalos nubosos',\n",
       " 'Muy nuboso con lluvia escasa',\n",
       " 'Nuboso con tormenta y lluvia escasa',\n",
       " 'Cubierto con tormenta',\n",
       " 'Nuboso con lluvia escasa',\n",
       " 'Intervalos nubosos con lluvia',\n",
       " 'Bruma',\n",
       " 'Niebla',\n",
       " 'Nuboso con lluvia',\n",
       " 'Muy nuboso con tormenta',\n",
       " 'Nuboso con tormenta']"
      ]
     },
     "execution_count": 18,
     "metadata": {},
     "output_type": "execute_result"
    }
   ],
   "source": [
    "lista_cielo=[]\n",
    "for nombre in df_aemet[\"cielo\"].unique():\n",
    "    lista_cielo.append(nombre)\n",
    "lista_cielo   "
   ]
  },
  {
   "cell_type": "code",
   "execution_count": 19,
   "metadata": {},
   "outputs": [
    {
     "data": {
      "text/html": [
       "<div>\n",
       "<style scoped>\n",
       "    .dataframe tbody tr th:only-of-type {\n",
       "        vertical-align: middle;\n",
       "    }\n",
       "\n",
       "    .dataframe tbody tr th {\n",
       "        vertical-align: top;\n",
       "    }\n",
       "\n",
       "    .dataframe thead th {\n",
       "        text-align: right;\n",
       "    }\n",
       "</style>\n",
       "<table border=\"1\" class=\"dataframe\">\n",
       "  <thead>\n",
       "    <tr style=\"text-align: right;\">\n",
       "      <th></th>\n",
       "      <th>cielo</th>\n",
       "      <th>id_cielo</th>\n",
       "    </tr>\n",
       "  </thead>\n",
       "  <tbody>\n",
       "    <tr>\n",
       "      <th>0</th>\n",
       "      <td>Nubes altas</td>\n",
       "      <td>1</td>\n",
       "    </tr>\n",
       "    <tr>\n",
       "      <th>1</th>\n",
       "      <td>Muy nuboso</td>\n",
       "      <td>2</td>\n",
       "    </tr>\n",
       "    <tr>\n",
       "      <th>2</th>\n",
       "      <td>Cubierto con tormenta y lluvia escasa</td>\n",
       "      <td>3</td>\n",
       "    </tr>\n",
       "    <tr>\n",
       "      <th>3</th>\n",
       "      <td>Nuboso</td>\n",
       "      <td>4</td>\n",
       "    </tr>\n",
       "    <tr>\n",
       "      <th>4</th>\n",
       "      <td>Cielo despejado</td>\n",
       "      <td>5</td>\n",
       "    </tr>\n",
       "  </tbody>\n",
       "</table>\n",
       "</div>"
      ],
      "text/plain": [
       "                                   cielo  id_cielo\n",
       "0                            Nubes altas         1\n",
       "1                             Muy nuboso         2\n",
       "2  Cubierto con tormenta y lluvia escasa         3\n",
       "3                                 Nuboso         4\n",
       "4                        Cielo despejado         5"
      ]
     },
     "execution_count": 19,
     "metadata": {},
     "output_type": "execute_result"
    }
   ],
   "source": [
    "df_cielo1= pd.DataFrame(lista_cielo)\n",
    "df_cielo1= df_cielo1.rename(columns={0 : \"cielo\"})\n",
    "df_cielo= crear_df_id(df_cielo1,\"cielo\")\n",
    "df_cielo.head()"
   ]
  },
  {
   "cell_type": "code",
   "execution_count": 20,
   "metadata": {},
   "outputs": [
    {
     "data": {
      "text/plain": [
       "['Riesgo', 'Sin riesgo']"
      ]
     },
     "execution_count": 20,
     "metadata": {},
     "output_type": "execute_result"
    }
   ],
   "source": [
    "lista_avisos=[]\n",
    "for nombre in df_aemet[\"avisos\"].unique():\n",
    "    lista_avisos.append(nombre)\n",
    "lista_avisos   "
   ]
  },
  {
   "cell_type": "code",
   "execution_count": 21,
   "metadata": {},
   "outputs": [
    {
     "data": {
      "text/html": [
       "<div>\n",
       "<style scoped>\n",
       "    .dataframe tbody tr th:only-of-type {\n",
       "        vertical-align: middle;\n",
       "    }\n",
       "\n",
       "    .dataframe tbody tr th {\n",
       "        vertical-align: top;\n",
       "    }\n",
       "\n",
       "    .dataframe thead th {\n",
       "        text-align: right;\n",
       "    }\n",
       "</style>\n",
       "<table border=\"1\" class=\"dataframe\">\n",
       "  <thead>\n",
       "    <tr style=\"text-align: right;\">\n",
       "      <th></th>\n",
       "      <th>avisos</th>\n",
       "      <th>id_avisos</th>\n",
       "    </tr>\n",
       "  </thead>\n",
       "  <tbody>\n",
       "    <tr>\n",
       "      <th>0</th>\n",
       "      <td>Riesgo</td>\n",
       "      <td>1</td>\n",
       "    </tr>\n",
       "    <tr>\n",
       "      <th>1</th>\n",
       "      <td>Sin riesgo</td>\n",
       "      <td>2</td>\n",
       "    </tr>\n",
       "  </tbody>\n",
       "</table>\n",
       "</div>"
      ],
      "text/plain": [
       "       avisos  id_avisos\n",
       "0      Riesgo          1\n",
       "1  Sin riesgo          2"
      ]
     },
     "execution_count": 21,
     "metadata": {},
     "output_type": "execute_result"
    }
   ],
   "source": [
    "df_avisos1= pd.DataFrame(lista_avisos)\n",
    "df_avisos1= df_avisos1.rename(columns={0 : \"avisos\"})\n",
    "df_avisos= crear_df_id(df_avisos1,\"avisos\")\n",
    "df_avisos.head()"
   ]
  },
  {
   "cell_type": "code",
   "execution_count": 22,
   "metadata": {},
   "outputs": [
    {
     "data": {
      "text/plain": [
       "['Park',\n",
       " 'Monument',\n",
       " 'TV Station',\n",
       " 'Castle',\n",
       " 'Film Studio',\n",
       " 'Palace',\n",
       " 'Fountain',\n",
       " 'Bridge',\n",
       " 'Beach',\n",
       " 'Print, TV, Radio and Outdoor Advertising Service']"
      ]
     },
     "execution_count": 22,
     "metadata": {},
     "output_type": "execute_result"
    }
   ],
   "source": [
    "lista_categorias=[]\n",
    "for nombre in df_foursq[\"category\"].unique():\n",
    "    lista_categorias.append(nombre)\n",
    "lista_categorias"
   ]
  },
  {
   "cell_type": "code",
   "execution_count": 23,
   "metadata": {},
   "outputs": [
    {
     "data": {
      "text/html": [
       "<div>\n",
       "<style scoped>\n",
       "    .dataframe tbody tr th:only-of-type {\n",
       "        vertical-align: middle;\n",
       "    }\n",
       "\n",
       "    .dataframe tbody tr th {\n",
       "        vertical-align: top;\n",
       "    }\n",
       "\n",
       "    .dataframe thead th {\n",
       "        text-align: right;\n",
       "    }\n",
       "</style>\n",
       "<table border=\"1\" class=\"dataframe\">\n",
       "  <thead>\n",
       "    <tr style=\"text-align: right;\">\n",
       "      <th></th>\n",
       "      <th>categorias</th>\n",
       "      <th>id_categorias</th>\n",
       "    </tr>\n",
       "  </thead>\n",
       "  <tbody>\n",
       "    <tr>\n",
       "      <th>0</th>\n",
       "      <td>Park</td>\n",
       "      <td>1</td>\n",
       "    </tr>\n",
       "    <tr>\n",
       "      <th>1</th>\n",
       "      <td>Monument</td>\n",
       "      <td>2</td>\n",
       "    </tr>\n",
       "    <tr>\n",
       "      <th>2</th>\n",
       "      <td>TV Station</td>\n",
       "      <td>3</td>\n",
       "    </tr>\n",
       "    <tr>\n",
       "      <th>3</th>\n",
       "      <td>Castle</td>\n",
       "      <td>4</td>\n",
       "    </tr>\n",
       "    <tr>\n",
       "      <th>4</th>\n",
       "      <td>Film Studio</td>\n",
       "      <td>5</td>\n",
       "    </tr>\n",
       "  </tbody>\n",
       "</table>\n",
       "</div>"
      ],
      "text/plain": [
       "    categorias  id_categorias\n",
       "0         Park              1\n",
       "1     Monument              2\n",
       "2   TV Station              3\n",
       "3       Castle              4\n",
       "4  Film Studio              5"
      ]
     },
     "execution_count": 23,
     "metadata": {},
     "output_type": "execute_result"
    }
   ],
   "source": [
    "df_categorias1= pd.DataFrame(lista_categorias)\n",
    "df_categorias1= df_categorias1.rename(columns={0 : \"categorias\"})\n",
    "df_categorias= crear_df_id(df_categorias1,\"categorias\")\n",
    "df_categorias.head()"
   ]
  },
  {
   "cell_type": "code",
   "execution_count": 24,
   "metadata": {},
   "outputs": [
    {
     "data": {
      "text/plain": [
       "['LikelyOpen', 'VeryLikelyOpen', 'Unsure']"
      ]
     },
     "execution_count": 24,
     "metadata": {},
     "output_type": "execute_result"
    }
   ],
   "source": [
    "lista_estados=[]\n",
    "for nombre in df_foursq[\"closed_bucket\"].unique():\n",
    "    lista_estados.append(nombre)\n",
    "lista_estados"
   ]
  },
  {
   "cell_type": "code",
   "execution_count": 25,
   "metadata": {},
   "outputs": [
    {
     "data": {
      "text/html": [
       "<div>\n",
       "<style scoped>\n",
       "    .dataframe tbody tr th:only-of-type {\n",
       "        vertical-align: middle;\n",
       "    }\n",
       "\n",
       "    .dataframe tbody tr th {\n",
       "        vertical-align: top;\n",
       "    }\n",
       "\n",
       "    .dataframe thead th {\n",
       "        text-align: right;\n",
       "    }\n",
       "</style>\n",
       "<table border=\"1\" class=\"dataframe\">\n",
       "  <thead>\n",
       "    <tr style=\"text-align: right;\">\n",
       "      <th></th>\n",
       "      <th>estados</th>\n",
       "      <th>id_estados</th>\n",
       "    </tr>\n",
       "  </thead>\n",
       "  <tbody>\n",
       "    <tr>\n",
       "      <th>0</th>\n",
       "      <td>LikelyOpen</td>\n",
       "      <td>1</td>\n",
       "    </tr>\n",
       "    <tr>\n",
       "      <th>1</th>\n",
       "      <td>VeryLikelyOpen</td>\n",
       "      <td>2</td>\n",
       "    </tr>\n",
       "    <tr>\n",
       "      <th>2</th>\n",
       "      <td>Unsure</td>\n",
       "      <td>3</td>\n",
       "    </tr>\n",
       "  </tbody>\n",
       "</table>\n",
       "</div>"
      ],
      "text/plain": [
       "          estados  id_estados\n",
       "0      LikelyOpen           1\n",
       "1  VeryLikelyOpen           2\n",
       "2          Unsure           3"
      ]
     },
     "execution_count": 25,
     "metadata": {},
     "output_type": "execute_result"
    }
   ],
   "source": [
    "df_estados1= pd.DataFrame(lista_estados)\n",
    "df_estados1= df_estados1.rename(columns={0 : \"estados\"})\n",
    "df_estados= crear_df_id(df_estados1,\"estados\")\n",
    "df_estados.head()"
   ]
  },
  {
   "cell_type": "markdown",
   "metadata": {},
   "source": [
    "Pasamos a las siguientes tablas con menos ids 2ºtiempo"
   ]
  },
  {
   "cell_type": "code",
   "execution_count": 31,
   "metadata": {},
   "outputs": [
    {
     "data": {
      "text/html": [
       "<div>\n",
       "<style scoped>\n",
       "    .dataframe tbody tr th:only-of-type {\n",
       "        vertical-align: middle;\n",
       "    }\n",
       "\n",
       "    .dataframe tbody tr th {\n",
       "        vertical-align: top;\n",
       "    }\n",
       "\n",
       "    .dataframe thead th {\n",
       "        text-align: right;\n",
       "    }\n",
       "</style>\n",
       "<table border=\"1\" class=\"dataframe\">\n",
       "  <thead>\n",
       "    <tr style=\"text-align: right;\">\n",
       "      <th></th>\n",
       "      <th>fecha</th>\n",
       "      <th>temperatura_°c</th>\n",
       "      <th>precipitacion_mm</th>\n",
       "      <th>humedad_%</th>\n",
       "      <th>avisos</th>\n",
       "      <th>cielo</th>\n",
       "      <th>id_localizacion</th>\n",
       "      <th>id_municipio</th>\n",
       "    </tr>\n",
       "  </thead>\n",
       "  <tbody>\n",
       "    <tr>\n",
       "      <th>0</th>\n",
       "      <td>2024-08-29 12:00:00</td>\n",
       "      <td>21</td>\n",
       "      <td>0.0</td>\n",
       "      <td>69</td>\n",
       "      <td>Riesgo</td>\n",
       "      <td>Nubes altas</td>\n",
       "      <td>acebeda-la</td>\n",
       "      <td>28001</td>\n",
       "    </tr>\n",
       "    <tr>\n",
       "      <th>1</th>\n",
       "      <td>2024-08-29 13:00:00</td>\n",
       "      <td>24</td>\n",
       "      <td>0.0</td>\n",
       "      <td>57</td>\n",
       "      <td>Riesgo</td>\n",
       "      <td>Nubes altas</td>\n",
       "      <td>acebeda-la</td>\n",
       "      <td>28001</td>\n",
       "    </tr>\n",
       "  </tbody>\n",
       "</table>\n",
       "</div>"
      ],
      "text/plain": [
       "                 fecha  temperatura_°c  precipitacion_mm  humedad_%  avisos  \\\n",
       "0  2024-08-29 12:00:00              21               0.0         69  Riesgo   \n",
       "1  2024-08-29 13:00:00              24               0.0         57  Riesgo   \n",
       "\n",
       "         cielo id_localizacion id_municipio  \n",
       "0  Nubes altas      acebeda-la        28001  \n",
       "1  Nubes altas      acebeda-la        28001  "
      ]
     },
     "execution_count": 31,
     "metadata": {},
     "output_type": "execute_result"
    }
   ],
   "source": [
    "df= pd.DataFrame()\n",
    "df[\"fecha\"]= df_aemet[\"fecha\"]\n",
    "df[\"temperatura_°c\"]= df_aemet[\"temp._(°c)\"]\n",
    "df[\"precipitacion_mm\"]= df_aemet[\"precipitación_(mm)\"]\n",
    "df[\"humedad_%\"]= df_aemet[\"humedad_relativa_(%)\"]\n",
    "df[\"avisos\"]= df_aemet[\"avisos\"]\n",
    "df[\"cielo\"]= df_aemet[\"cielo\"]\n",
    "df[\"id_localizacion\"]= df_aemet[\"id_localizacion\"]\n",
    "df[\"id_municipio\"]= df_aemet[\"id_municipio\"]\n",
    "df_tiempo= df\n",
    "df_tiempo.head(2)"
   ]
  },
  {
   "cell_type": "code",
   "execution_count": null,
   "metadata": {},
   "outputs": [],
   "source": []
  },
  {
   "cell_type": "code",
   "execution_count": 32,
   "metadata": {},
   "outputs": [],
   "source": [
    "diccionario_mun= {}\n",
    "datos = df_aemet.groupby(\"id_localizacion\")[\"id_municipio\"].first()\n",
    "datos_cielo = list(datos.index)\n",
    "lista_estados = list(datos.values)\n",
    "for i in range(0, len(datos_cielo)):\n",
    "    diccionario_mun[datos_cielo[i]] = lista_estados[i]\n",
    "\n",
    "df_tiempo[\"id_municipio\"] = df_tiempo[\"id_localizacion\"].map(diccionario_mun)"
   ]
  },
  {
   "cell_type": "code",
   "execution_count": 33,
   "metadata": {},
   "outputs": [],
   "source": [
    "diccionario= {}\n",
    "datos = df_cielo.groupby(\"cielo\")[\"id_cielo\"].first()\n",
    "datos_cielo = list(datos.index)\n",
    "lista_estados = list(datos.values)\n",
    "for i in range(0, len(datos_cielo)):\n",
    "    diccionario[datos_cielo[i]] = lista_estados[i]\n",
    "\n",
    "df_tiempo[\"id_cielo\"] = df_tiempo[\"cielo\"].map(diccionario)"
   ]
  },
  {
   "cell_type": "code",
   "execution_count": 34,
   "metadata": {},
   "outputs": [],
   "source": [
    "\n",
    "diccionario= {}\n",
    "datos = df_avisos.groupby(\"avisos\")[\"id_avisos\"].first()\n",
    "datos_cielo = list(datos.index)\n",
    "lista_estados = list(datos.values)\n",
    "for i in range(0, len(datos_cielo)):\n",
    "    diccionario[datos_cielo[i]] = lista_estados[i]\n",
    "\n",
    "df_tiempo[\"id_avisos\"] = df_tiempo[\"avisos\"].map(diccionario)\n",
    "\n",
    "df_tiempo.drop(columns=\"cielo\", inplace=True)\n",
    "df_tiempo.drop(columns=\"avisos\", inplace=True)  \n",
    "df_tiempo.drop(columns=\"id_localizacion\", inplace=True)  "
   ]
  },
  {
   "cell_type": "code",
   "execution_count": 35,
   "metadata": {},
   "outputs": [
    {
     "data": {
      "text/html": [
       "<div>\n",
       "<style scoped>\n",
       "    .dataframe tbody tr th:only-of-type {\n",
       "        vertical-align: middle;\n",
       "    }\n",
       "\n",
       "    .dataframe tbody tr th {\n",
       "        vertical-align: top;\n",
       "    }\n",
       "\n",
       "    .dataframe thead th {\n",
       "        text-align: right;\n",
       "    }\n",
       "</style>\n",
       "<table border=\"1\" class=\"dataframe\">\n",
       "  <thead>\n",
       "    <tr style=\"text-align: right;\">\n",
       "      <th></th>\n",
       "      <th>fecha</th>\n",
       "      <th>temperatura_°c</th>\n",
       "      <th>precipitacion_mm</th>\n",
       "      <th>humedad_%</th>\n",
       "      <th>id_municipio</th>\n",
       "      <th>id_cielo</th>\n",
       "      <th>id_avisos</th>\n",
       "      <th>id_tiempo</th>\n",
       "    </tr>\n",
       "  </thead>\n",
       "  <tbody>\n",
       "    <tr>\n",
       "      <th>1</th>\n",
       "      <td>2024-08-29 12:00:00</td>\n",
       "      <td>21</td>\n",
       "      <td>0.0</td>\n",
       "      <td>69</td>\n",
       "      <td>28001</td>\n",
       "      <td>1</td>\n",
       "      <td>1</td>\n",
       "      <td>1</td>\n",
       "    </tr>\n",
       "    <tr>\n",
       "      <th>2</th>\n",
       "      <td>2024-08-29 13:00:00</td>\n",
       "      <td>24</td>\n",
       "      <td>0.0</td>\n",
       "      <td>57</td>\n",
       "      <td>28001</td>\n",
       "      <td>1</td>\n",
       "      <td>1</td>\n",
       "      <td>2</td>\n",
       "    </tr>\n",
       "    <tr>\n",
       "      <th>3</th>\n",
       "      <td>2024-08-29 14:00:00</td>\n",
       "      <td>23</td>\n",
       "      <td>0.0</td>\n",
       "      <td>59</td>\n",
       "      <td>28001</td>\n",
       "      <td>2</td>\n",
       "      <td>1</td>\n",
       "      <td>3</td>\n",
       "    </tr>\n",
       "    <tr>\n",
       "      <th>4</th>\n",
       "      <td>2024-08-29 15:00:00</td>\n",
       "      <td>23</td>\n",
       "      <td>0.0</td>\n",
       "      <td>55</td>\n",
       "      <td>28001</td>\n",
       "      <td>1</td>\n",
       "      <td>1</td>\n",
       "      <td>4</td>\n",
       "    </tr>\n",
       "    <tr>\n",
       "      <th>5</th>\n",
       "      <td>2024-08-29 16:00:00</td>\n",
       "      <td>21</td>\n",
       "      <td>0.0</td>\n",
       "      <td>65</td>\n",
       "      <td>28001</td>\n",
       "      <td>1</td>\n",
       "      <td>1</td>\n",
       "      <td>5</td>\n",
       "    </tr>\n",
       "  </tbody>\n",
       "</table>\n",
       "</div>"
      ],
      "text/plain": [
       "                 fecha  temperatura_°c  precipitacion_mm  humedad_%  \\\n",
       "1  2024-08-29 12:00:00              21               0.0         69   \n",
       "2  2024-08-29 13:00:00              24               0.0         57   \n",
       "3  2024-08-29 14:00:00              23               0.0         59   \n",
       "4  2024-08-29 15:00:00              23               0.0         55   \n",
       "5  2024-08-29 16:00:00              21               0.0         65   \n",
       "\n",
       "  id_municipio  id_cielo  id_avisos  id_tiempo  \n",
       "1        28001         1          1          1  \n",
       "2        28001         1          1          2  \n",
       "3        28001         2          1          3  \n",
       "4        28001         1          1          4  \n",
       "5        28001         1          1          5  "
      ]
     },
     "execution_count": 35,
     "metadata": {},
     "output_type": "execute_result"
    }
   ],
   "source": [
    "df_tiempo.index = pd.RangeIndex(start=1,stop = len(df_tiempo)+1,step=1)\n",
    "df_tiempo[\"id_tiempo\"]=df_tiempo.index\n",
    "df_tiempo.head()\n"
   ]
  },
  {
   "cell_type": "markdown",
   "metadata": {},
   "source": [
    "tabla mun"
   ]
  },
  {
   "cell_type": "code",
   "execution_count": 36,
   "metadata": {},
   "outputs": [
    {
     "data": {
      "text/html": [
       "<div>\n",
       "<style scoped>\n",
       "    .dataframe tbody tr th:only-of-type {\n",
       "        vertical-align: middle;\n",
       "    }\n",
       "\n",
       "    .dataframe tbody tr th {\n",
       "        vertical-align: top;\n",
       "    }\n",
       "\n",
       "    .dataframe thead th {\n",
       "        text-align: right;\n",
       "    }\n",
       "</style>\n",
       "<table border=\"1\" class=\"dataframe\">\n",
       "  <thead>\n",
       "    <tr style=\"text-align: right;\">\n",
       "      <th></th>\n",
       "      <th>index</th>\n",
       "      <th>0</th>\n",
       "      <th>1</th>\n",
       "      <th>2</th>\n",
       "    </tr>\n",
       "  </thead>\n",
       "  <tbody>\n",
       "    <tr>\n",
       "      <th>0</th>\n",
       "      <td>acebeda-la</td>\n",
       "      <td>41.0869583</td>\n",
       "      <td>-3.624399</td>\n",
       "      <td>La Acebeda</td>\n",
       "    </tr>\n",
       "    <tr>\n",
       "      <th>1</th>\n",
       "      <td>ajalvir</td>\n",
       "      <td>40.5342302</td>\n",
       "      <td>-3.4807818</td>\n",
       "      <td>Ajalvir</td>\n",
       "    </tr>\n",
       "    <tr>\n",
       "      <th>2</th>\n",
       "      <td>alameda-del-valle</td>\n",
       "      <td>40.9177178</td>\n",
       "      <td>-3.8438216</td>\n",
       "      <td>Alameda del Valle</td>\n",
       "    </tr>\n",
       "    <tr>\n",
       "      <th>3</th>\n",
       "      <td>alamo-el</td>\n",
       "      <td>40.2307296</td>\n",
       "      <td>-3.9905893</td>\n",
       "      <td>El Álamo</td>\n",
       "    </tr>\n",
       "    <tr>\n",
       "      <th>4</th>\n",
       "      <td>alcala-de-henares</td>\n",
       "      <td>40.4818396</td>\n",
       "      <td>-3.3644973</td>\n",
       "      <td>Alcalá de Henares</td>\n",
       "    </tr>\n",
       "  </tbody>\n",
       "</table>\n",
       "</div>"
      ],
      "text/plain": [
       "               index           0           1                  2\n",
       "0         acebeda-la  41.0869583   -3.624399         La Acebeda\n",
       "1            ajalvir  40.5342302  -3.4807818            Ajalvir\n",
       "2  alameda-del-valle  40.9177178  -3.8438216  Alameda del Valle\n",
       "3           alamo-el  40.2307296  -3.9905893           El Álamo\n",
       "4  alcala-de-henares  40.4818396  -3.3644973  Alcalá de Henares"
      ]
     },
     "execution_count": 36,
     "metadata": {},
     "output_type": "execute_result"
    }
   ],
   "source": [
    "df_municipioss= df_municipios.T\n",
    "df_municipioss=df_municipioss.reset_index()\n",
    "df_municipioss.head()\n"
   ]
  },
  {
   "cell_type": "code",
   "execution_count": 37,
   "metadata": {},
   "outputs": [
    {
     "data": {
      "text/html": [
       "<div>\n",
       "<style scoped>\n",
       "    .dataframe tbody tr th:only-of-type {\n",
       "        vertical-align: middle;\n",
       "    }\n",
       "\n",
       "    .dataframe tbody tr th {\n",
       "        vertical-align: top;\n",
       "    }\n",
       "\n",
       "    .dataframe thead th {\n",
       "        text-align: right;\n",
       "    }\n",
       "</style>\n",
       "<table border=\"1\" class=\"dataframe\">\n",
       "  <thead>\n",
       "    <tr style=\"text-align: right;\">\n",
       "      <th></th>\n",
       "      <th>id_municipio_cambiar</th>\n",
       "      <th>latitude</th>\n",
       "      <th>longitude</th>\n",
       "      <th>nombre_municipio</th>\n",
       "    </tr>\n",
       "  </thead>\n",
       "  <tbody>\n",
       "    <tr>\n",
       "      <th>0</th>\n",
       "      <td>acebeda-la</td>\n",
       "      <td>41.0869583</td>\n",
       "      <td>-3.624399</td>\n",
       "      <td>La Acebeda</td>\n",
       "    </tr>\n",
       "    <tr>\n",
       "      <th>1</th>\n",
       "      <td>ajalvir</td>\n",
       "      <td>40.5342302</td>\n",
       "      <td>-3.4807818</td>\n",
       "      <td>Ajalvir</td>\n",
       "    </tr>\n",
       "  </tbody>\n",
       "</table>\n",
       "</div>"
      ],
      "text/plain": [
       "  id_municipio_cambiar    latitude   longitude nombre_municipio\n",
       "0           acebeda-la  41.0869583   -3.624399       La Acebeda\n",
       "1              ajalvir  40.5342302  -3.4807818          Ajalvir"
      ]
     },
     "execution_count": 37,
     "metadata": {},
     "output_type": "execute_result"
    }
   ],
   "source": [
    "lista= [\"id_municipio_cambiar\",\"latitude\",\"longitude\",\"nombre_municipio\"]\n",
    "df_municipioss.columns= lista\n",
    "df_municipioss.head(2)\n"
   ]
  },
  {
   "cell_type": "code",
   "execution_count": 38,
   "metadata": {},
   "outputs": [
    {
     "data": {
      "text/html": [
       "<div>\n",
       "<style scoped>\n",
       "    .dataframe tbody tr th:only-of-type {\n",
       "        vertical-align: middle;\n",
       "    }\n",
       "\n",
       "    .dataframe tbody tr th {\n",
       "        vertical-align: top;\n",
       "    }\n",
       "\n",
       "    .dataframe thead th {\n",
       "        text-align: right;\n",
       "    }\n",
       "</style>\n",
       "<table border=\"1\" class=\"dataframe\">\n",
       "  <thead>\n",
       "    <tr style=\"text-align: right;\">\n",
       "      <th></th>\n",
       "      <th>nombre_municipio</th>\n",
       "      <th>latitud</th>\n",
       "      <th>longitud</th>\n",
       "      <th>id_union</th>\n",
       "    </tr>\n",
       "  </thead>\n",
       "  <tbody>\n",
       "    <tr>\n",
       "      <th>0</th>\n",
       "      <td>La Acebeda</td>\n",
       "      <td>41.0869583</td>\n",
       "      <td>-3.624399</td>\n",
       "      <td>acebeda-la</td>\n",
       "    </tr>\n",
       "    <tr>\n",
       "      <th>1</th>\n",
       "      <td>Ajalvir</td>\n",
       "      <td>40.5342302</td>\n",
       "      <td>-3.4807818</td>\n",
       "      <td>ajalvir</td>\n",
       "    </tr>\n",
       "  </tbody>\n",
       "</table>\n",
       "</div>"
      ],
      "text/plain": [
       "  nombre_municipio     latitud    longitud    id_union\n",
       "0       La Acebeda  41.0869583   -3.624399  acebeda-la\n",
       "1          Ajalvir  40.5342302  -3.4807818     ajalvir"
      ]
     },
     "execution_count": 38,
     "metadata": {},
     "output_type": "execute_result"
    }
   ],
   "source": [
    "df= pd.DataFrame()\n",
    "df[\"nombre_municipio\"]= df_municipioss[\"nombre_municipio\"]\n",
    "df[\"latitud\"]= df_municipioss[\"latitude\"]\n",
    "df[\"longitud\"]= df_municipioss[\"longitude\"]\n",
    "df[\"id_union\"]= df_municipioss[\"id_municipio_cambiar\"]\n",
    "df_municipios1= df\n",
    "df_municipios1.head(2)\n"
   ]
  },
  {
   "cell_type": "code",
   "execution_count": 42,
   "metadata": {},
   "outputs": [],
   "source": [
    "\n",
    "\n",
    "\n",
    "df_municipios1[\"id_municipio\"] = df_municipios1[\"id_union\"].map(diccionario_mun)\n",
    "df_municipios1.drop(columns=\"id_union\", inplace=True) \n"
   ]
  },
  {
   "cell_type": "code",
   "execution_count": 44,
   "metadata": {},
   "outputs": [
    {
     "data": {
      "text/html": [
       "<div>\n",
       "<style scoped>\n",
       "    .dataframe tbody tr th:only-of-type {\n",
       "        vertical-align: middle;\n",
       "    }\n",
       "\n",
       "    .dataframe tbody tr th {\n",
       "        vertical-align: top;\n",
       "    }\n",
       "\n",
       "    .dataframe thead th {\n",
       "        text-align: right;\n",
       "    }\n",
       "</style>\n",
       "<table border=\"1\" class=\"dataframe\">\n",
       "  <thead>\n",
       "    <tr style=\"text-align: right;\">\n",
       "      <th></th>\n",
       "      <th>nombre_municipio</th>\n",
       "      <th>latitud</th>\n",
       "      <th>longitud</th>\n",
       "      <th>id_municipio</th>\n",
       "    </tr>\n",
       "  </thead>\n",
       "  <tbody>\n",
       "    <tr>\n",
       "      <th>0</th>\n",
       "      <td>La Acebeda</td>\n",
       "      <td>41.0869583</td>\n",
       "      <td>-3.624399</td>\n",
       "      <td>28001</td>\n",
       "    </tr>\n",
       "    <tr>\n",
       "      <th>1</th>\n",
       "      <td>Ajalvir</td>\n",
       "      <td>40.5342302</td>\n",
       "      <td>-3.4807818</td>\n",
       "      <td>28002</td>\n",
       "    </tr>\n",
       "  </tbody>\n",
       "</table>\n",
       "</div>"
      ],
      "text/plain": [
       "  nombre_municipio     latitud    longitud id_municipio\n",
       "0       La Acebeda  41.0869583   -3.624399        28001\n",
       "1          Ajalvir  40.5342302  -3.4807818        28002"
      ]
     },
     "execution_count": 44,
     "metadata": {},
     "output_type": "execute_result"
    }
   ],
   "source": [
    "df_municipios1.head(2)"
   ]
  },
  {
   "cell_type": "markdown",
   "metadata": {},
   "source": [
    "Hacemos la última tabla (lugar)"
   ]
  },
  {
   "cell_type": "code",
   "execution_count": 46,
   "metadata": {},
   "outputs": [
    {
     "data": {
      "text/html": [
       "<div>\n",
       "<style scoped>\n",
       "    .dataframe tbody tr th:only-of-type {\n",
       "        vertical-align: middle;\n",
       "    }\n",
       "\n",
       "    .dataframe tbody tr th {\n",
       "        vertical-align: top;\n",
       "    }\n",
       "\n",
       "    .dataframe thead th {\n",
       "        text-align: right;\n",
       "    }\n",
       "</style>\n",
       "<table border=\"1\" class=\"dataframe\">\n",
       "  <thead>\n",
       "    <tr style=\"text-align: right;\">\n",
       "      <th></th>\n",
       "      <th>category</th>\n",
       "      <th>fsq_id</th>\n",
       "      <th>closed_bucket</th>\n",
       "      <th>distance</th>\n",
       "      <th>link</th>\n",
       "      <th>name</th>\n",
       "      <th>address</th>\n",
       "      <th>latitude</th>\n",
       "      <th>longitude</th>\n",
       "      <th>id_municipio_cambiar</th>\n",
       "    </tr>\n",
       "  </thead>\n",
       "  <tbody>\n",
       "    <tr>\n",
       "      <th>0</th>\n",
       "      <td>Park</td>\n",
       "      <td>4d3c6c5b84d46ea87dddfd5c</td>\n",
       "      <td>LikelyOpen</td>\n",
       "      <td>563.0</td>\n",
       "      <td>/v3/places/4d3c6c5b84d46ea87dddfd5c</td>\n",
       "      <td>Diverjungla</td>\n",
       "      <td>Calle Segovia, 20 (Pol. Ind. Donada), 28864 Aj...</td>\n",
       "      <td>40.529921</td>\n",
       "      <td>-3.484341</td>\n",
       "      <td>ajalvir</td>\n",
       "    </tr>\n",
       "    <tr>\n",
       "      <th>1</th>\n",
       "      <td>Park</td>\n",
       "      <td>4f54f7bfe4b036244d02685b</td>\n",
       "      <td>VeryLikelyOpen</td>\n",
       "      <td>1724.0</td>\n",
       "      <td>/v3/places/4f54f7bfe4b036244d02685b</td>\n",
       "      <td>Parque Infantil</td>\n",
       "      <td>NaN</td>\n",
       "      <td>40.543867</td>\n",
       "      <td>-3.464773</td>\n",
       "      <td>ajalvir</td>\n",
       "    </tr>\n",
       "    <tr>\n",
       "      <th>2</th>\n",
       "      <td>Park</td>\n",
       "      <td>7d4ef99ca2dd4789f032a90c</td>\n",
       "      <td>LikelyOpen</td>\n",
       "      <td>333.0</td>\n",
       "      <td>/v3/places/7d4ef99ca2dd4789f032a90c</td>\n",
       "      <td>Chiquitin</td>\n",
       "      <td>Ajalvir Madrid</td>\n",
       "      <td>40.531662</td>\n",
       "      <td>-3.482835</td>\n",
       "      <td>ajalvir</td>\n",
       "    </tr>\n",
       "    <tr>\n",
       "      <th>3</th>\n",
       "      <td>Park</td>\n",
       "      <td>53de1144498e8fd8d8cb3537</td>\n",
       "      <td>LikelyOpen</td>\n",
       "      <td>118.0</td>\n",
       "      <td>/v3/places/53de1144498e8fd8d8cb3537</td>\n",
       "      <td>Isla Perejil</td>\n",
       "      <td>28607 El Alamo Comunidad de Madrid</td>\n",
       "      <td>40.230993</td>\n",
       "      <td>-3.991942</td>\n",
       "      <td>alamo-el</td>\n",
       "    </tr>\n",
       "    <tr>\n",
       "      <th>4</th>\n",
       "      <td>Park</td>\n",
       "      <td>51a8f451498ecb8334de37df</td>\n",
       "      <td>LikelyOpen</td>\n",
       "      <td>582.0</td>\n",
       "      <td>/v3/places/51a8f451498ecb8334de37df</td>\n",
       "      <td>Parque de Madera</td>\n",
       "      <td>NaN</td>\n",
       "      <td>40.234636</td>\n",
       "      <td>-3.995166</td>\n",
       "      <td>alamo-el</td>\n",
       "    </tr>\n",
       "  </tbody>\n",
       "</table>\n",
       "</div>"
      ],
      "text/plain": [
       "  category                    fsq_id   closed_bucket  distance  \\\n",
       "0     Park  4d3c6c5b84d46ea87dddfd5c      LikelyOpen     563.0   \n",
       "1     Park  4f54f7bfe4b036244d02685b  VeryLikelyOpen    1724.0   \n",
       "2     Park  7d4ef99ca2dd4789f032a90c      LikelyOpen     333.0   \n",
       "3     Park  53de1144498e8fd8d8cb3537      LikelyOpen     118.0   \n",
       "4     Park  51a8f451498ecb8334de37df      LikelyOpen     582.0   \n",
       "\n",
       "                                  link              name  \\\n",
       "0  /v3/places/4d3c6c5b84d46ea87dddfd5c       Diverjungla   \n",
       "1  /v3/places/4f54f7bfe4b036244d02685b   Parque Infantil   \n",
       "2  /v3/places/7d4ef99ca2dd4789f032a90c         Chiquitin   \n",
       "3  /v3/places/53de1144498e8fd8d8cb3537      Isla Perejil   \n",
       "4  /v3/places/51a8f451498ecb8334de37df  Parque de Madera   \n",
       "\n",
       "                                             address   latitude  longitude  \\\n",
       "0  Calle Segovia, 20 (Pol. Ind. Donada), 28864 Aj...  40.529921  -3.484341   \n",
       "1                                                NaN  40.543867  -3.464773   \n",
       "2                                     Ajalvir Madrid  40.531662  -3.482835   \n",
       "3                 28607 El Alamo Comunidad de Madrid  40.230993  -3.991942   \n",
       "4                                                NaN  40.234636  -3.995166   \n",
       "\n",
       "  id_municipio_cambiar  \n",
       "0              ajalvir  \n",
       "1              ajalvir  \n",
       "2              ajalvir  \n",
       "3             alamo-el  \n",
       "4             alamo-el  "
      ]
     },
     "execution_count": 46,
     "metadata": {},
     "output_type": "execute_result"
    }
   ],
   "source": [
    "df_foursq.head()"
   ]
  },
  {
   "cell_type": "code",
   "execution_count": 47,
   "metadata": {},
   "outputs": [
    {
     "data": {
      "text/html": [
       "<div>\n",
       "<style scoped>\n",
       "    .dataframe tbody tr th:only-of-type {\n",
       "        vertical-align: middle;\n",
       "    }\n",
       "\n",
       "    .dataframe tbody tr th {\n",
       "        vertical-align: top;\n",
       "    }\n",
       "\n",
       "    .dataframe thead th {\n",
       "        text-align: right;\n",
       "    }\n",
       "</style>\n",
       "<table border=\"1\" class=\"dataframe\">\n",
       "  <thead>\n",
       "    <tr style=\"text-align: right;\">\n",
       "      <th></th>\n",
       "      <th>nombre</th>\n",
       "      <th>distancia</th>\n",
       "      <th>categoria</th>\n",
       "      <th>estado</th>\n",
       "      <th>id_localizacion</th>\n",
       "    </tr>\n",
       "  </thead>\n",
       "  <tbody>\n",
       "    <tr>\n",
       "      <th>0</th>\n",
       "      <td>Diverjungla</td>\n",
       "      <td>563.0</td>\n",
       "      <td>Park</td>\n",
       "      <td>LikelyOpen</td>\n",
       "      <td>ajalvir</td>\n",
       "    </tr>\n",
       "    <tr>\n",
       "      <th>1</th>\n",
       "      <td>Parque Infantil</td>\n",
       "      <td>1724.0</td>\n",
       "      <td>Park</td>\n",
       "      <td>VeryLikelyOpen</td>\n",
       "      <td>ajalvir</td>\n",
       "    </tr>\n",
       "  </tbody>\n",
       "</table>\n",
       "</div>"
      ],
      "text/plain": [
       "            nombre  distancia categoria          estado id_localizacion\n",
       "0      Diverjungla      563.0      Park      LikelyOpen         ajalvir\n",
       "1  Parque Infantil     1724.0      Park  VeryLikelyOpen         ajalvir"
      ]
     },
     "execution_count": 47,
     "metadata": {},
     "output_type": "execute_result"
    }
   ],
   "source": [
    "df= pd.DataFrame()\n",
    "df[\"nombre\"]= df_foursq[\"name\"]\n",
    "df[\"distancia\"]= df_foursq[\"distance\"]\n",
    "df[\"categoria\"]= df_foursq[\"category\"]\n",
    "df[\"estado\"]= df_foursq[\"closed_bucket\"]\n",
    "df[\"id_localizacion\"]= df_foursq[\"id_municipio_cambiar\"]\n",
    "df_lugar= df\n",
    "df_lugar.head(2)"
   ]
  },
  {
   "cell_type": "code",
   "execution_count": 48,
   "metadata": {},
   "outputs": [],
   "source": [
    "\n",
    "\n",
    "df_lugar[\"id_municipio\"] = df_lugar[\"id_localizacion\"].map(diccionario_mun)"
   ]
  },
  {
   "cell_type": "code",
   "execution_count": 49,
   "metadata": {},
   "outputs": [],
   "source": [
    "\n",
    "diccionario= {}\n",
    "datos = df_categorias.groupby(\"categorias\")[\"id_categorias\"].first()\n",
    "datos_cielo = list(datos.index)\n",
    "lista_estados = list(datos.values)\n",
    "for i in range(0, len(datos_cielo)):\n",
    "    diccionario[datos_cielo[i]] = lista_estados[i]\n",
    "\n",
    "df_lugar[\"id_categoria\"] = df_lugar[\"categoria\"].map(diccionario)"
   ]
  },
  {
   "cell_type": "code",
   "execution_count": 50,
   "metadata": {},
   "outputs": [],
   "source": [
    "\n",
    "diccionario= {}\n",
    "datos = df_estados.groupby(\"estados\")[\"id_estados\"].first()\n",
    "datos_cielo = list(datos.index)\n",
    "lista_estados = list(datos.values)\n",
    "for i in range(0, len(datos_cielo)):\n",
    "    diccionario[datos_cielo[i]] = lista_estados[i]\n",
    "\n",
    "df_lugar[\"id_estados\"] = df_lugar[\"estado\"].map(diccionario)\n",
    "\n",
    "df_lugar.drop(columns=\"categoria\", inplace=True)\n",
    "df_lugar.drop(columns=\"estado\", inplace=True) \n",
    "df_lugar.drop(columns=\"id_localizacion\", inplace=True) "
   ]
  },
  {
   "cell_type": "code",
   "execution_count": 51,
   "metadata": {},
   "outputs": [
    {
     "data": {
      "text/html": [
       "<div>\n",
       "<style scoped>\n",
       "    .dataframe tbody tr th:only-of-type {\n",
       "        vertical-align: middle;\n",
       "    }\n",
       "\n",
       "    .dataframe tbody tr th {\n",
       "        vertical-align: top;\n",
       "    }\n",
       "\n",
       "    .dataframe thead th {\n",
       "        text-align: right;\n",
       "    }\n",
       "</style>\n",
       "<table border=\"1\" class=\"dataframe\">\n",
       "  <thead>\n",
       "    <tr style=\"text-align: right;\">\n",
       "      <th></th>\n",
       "      <th>nombre</th>\n",
       "      <th>distancia</th>\n",
       "      <th>id_municipio</th>\n",
       "      <th>id_categoria</th>\n",
       "      <th>id_estados</th>\n",
       "      <th>id_lugar</th>\n",
       "    </tr>\n",
       "  </thead>\n",
       "  <tbody>\n",
       "    <tr>\n",
       "      <th>1</th>\n",
       "      <td>Diverjungla</td>\n",
       "      <td>563.0</td>\n",
       "      <td>28002</td>\n",
       "      <td>1</td>\n",
       "      <td>1</td>\n",
       "      <td>1</td>\n",
       "    </tr>\n",
       "    <tr>\n",
       "      <th>2</th>\n",
       "      <td>Parque Infantil</td>\n",
       "      <td>1724.0</td>\n",
       "      <td>28002</td>\n",
       "      <td>1</td>\n",
       "      <td>2</td>\n",
       "      <td>2</td>\n",
       "    </tr>\n",
       "    <tr>\n",
       "      <th>3</th>\n",
       "      <td>Chiquitin</td>\n",
       "      <td>333.0</td>\n",
       "      <td>28002</td>\n",
       "      <td>1</td>\n",
       "      <td>1</td>\n",
       "      <td>3</td>\n",
       "    </tr>\n",
       "    <tr>\n",
       "      <th>4</th>\n",
       "      <td>Isla Perejil</td>\n",
       "      <td>118.0</td>\n",
       "      <td>28004</td>\n",
       "      <td>1</td>\n",
       "      <td>1</td>\n",
       "      <td>4</td>\n",
       "    </tr>\n",
       "    <tr>\n",
       "      <th>5</th>\n",
       "      <td>Parque de Madera</td>\n",
       "      <td>582.0</td>\n",
       "      <td>28004</td>\n",
       "      <td>1</td>\n",
       "      <td>1</td>\n",
       "      <td>5</td>\n",
       "    </tr>\n",
       "  </tbody>\n",
       "</table>\n",
       "</div>"
      ],
      "text/plain": [
       "             nombre  distancia id_municipio  id_categoria  id_estados  \\\n",
       "1       Diverjungla      563.0        28002             1           1   \n",
       "2   Parque Infantil     1724.0        28002             1           2   \n",
       "3         Chiquitin      333.0        28002             1           1   \n",
       "4      Isla Perejil      118.0        28004             1           1   \n",
       "5  Parque de Madera      582.0        28004             1           1   \n",
       "\n",
       "   id_lugar  \n",
       "1         1  \n",
       "2         2  \n",
       "3         3  \n",
       "4         4  \n",
       "5         5  "
      ]
     },
     "execution_count": 51,
     "metadata": {},
     "output_type": "execute_result"
    }
   ],
   "source": [
    "df_lugar.index = pd.RangeIndex(start=1,stop = len(df_lugar)+1,step=1)\n",
    "df_lugar[\"id_lugar\"]=df_lugar.index\n",
    "df_lugar.head()"
   ]
  },
  {
   "cell_type": "markdown",
   "metadata": {},
   "source": [
    "Comprobamos nulos y tipos de cada DF"
   ]
  },
  {
   "cell_type": "code",
   "execution_count": 53,
   "metadata": {},
   "outputs": [],
   "source": [
    "df_tiempo[\"id_municipio\"]=df_tiempo[\"id_municipio\"].astype(int)"
   ]
  },
  {
   "cell_type": "code",
   "execution_count": 54,
   "metadata": {},
   "outputs": [
    {
     "name": "stdout",
     "output_type": "stream",
     "text": [
      "<class 'pandas.core.frame.DataFrame'>\n",
      "RangeIndex: 7885 entries, 1 to 7885\n",
      "Data columns (total 8 columns):\n",
      " #   Column            Non-Null Count  Dtype  \n",
      "---  ------            --------------  -----  \n",
      " 0   fecha             7885 non-null   object \n",
      " 1   temperatura_°c    7885 non-null   int64  \n",
      " 2   precipitacion_mm  7885 non-null   float64\n",
      " 3   humedad_%         7885 non-null   int64  \n",
      " 4   id_municipio      7885 non-null   int64  \n",
      " 5   id_cielo          7885 non-null   int64  \n",
      " 6   id_avisos         7885 non-null   int64  \n",
      " 7   id_tiempo         7885 non-null   int64  \n",
      "dtypes: float64(1), int64(6), object(1)\n",
      "memory usage: 492.9+ KB\n"
     ]
    }
   ],
   "source": [
    "df_tiempo.info()"
   ]
  },
  {
   "cell_type": "code",
   "execution_count": 58,
   "metadata": {},
   "outputs": [],
   "source": [
    "df_municipios1[\"latitud\"]= df_municipios1[\"latitud\"].astype(float,)\n",
    "df_municipios1[\"longitud\"]= df_municipios1[\"longitud\"].astype(float)\n",
    "df_municipios1[\"id_municipio\"]=df_municipios1[\"id_municipio\"].astype(int)"
   ]
  },
  {
   "cell_type": "code",
   "execution_count": 59,
   "metadata": {},
   "outputs": [
    {
     "name": "stdout",
     "output_type": "stream",
     "text": [
      "<class 'pandas.core.frame.DataFrame'>\n",
      "RangeIndex: 176 entries, 0 to 175\n",
      "Data columns (total 4 columns):\n",
      " #   Column            Non-Null Count  Dtype  \n",
      "---  ------            --------------  -----  \n",
      " 0   nombre_municipio  176 non-null    object \n",
      " 1   latitud           176 non-null    float64\n",
      " 2   longitud          176 non-null    float64\n",
      " 3   id_municipio      176 non-null    int64  \n",
      "dtypes: float64(2), int64(1), object(1)\n",
      "memory usage: 5.6+ KB\n"
     ]
    }
   ],
   "source": [
    "df_municipios1.info()"
   ]
  },
  {
   "cell_type": "code",
   "execution_count": 61,
   "metadata": {},
   "outputs": [],
   "source": [
    "df_lugar[\"id_municipio\"]=df_lugar[\"id_municipio\"].astype(int)"
   ]
  },
  {
   "cell_type": "code",
   "execution_count": 62,
   "metadata": {},
   "outputs": [
    {
     "name": "stdout",
     "output_type": "stream",
     "text": [
      "<class 'pandas.core.frame.DataFrame'>\n",
      "RangeIndex: 907 entries, 1 to 907\n",
      "Data columns (total 6 columns):\n",
      " #   Column        Non-Null Count  Dtype  \n",
      "---  ------        --------------  -----  \n",
      " 0   nombre        907 non-null    object \n",
      " 1   distancia     907 non-null    float64\n",
      " 2   id_municipio  907 non-null    int64  \n",
      " 3   id_categoria  907 non-null    int64  \n",
      " 4   id_estados    907 non-null    int64  \n",
      " 5   id_lugar      907 non-null    int64  \n",
      "dtypes: float64(1), int64(4), object(1)\n",
      "memory usage: 42.6+ KB\n"
     ]
    }
   ],
   "source": [
    "df_lugar.info()"
   ]
  },
  {
   "cell_type": "markdown",
   "metadata": {},
   "source": [
    "**PASEMOS A CREAR LAS TABLAS**"
   ]
  },
  {
   "cell_type": "code",
   "execution_count": 79,
   "metadata": {},
   "outputs": [],
   "source": [
    "try:\n",
    "    conexion= psycopg2.connect(\n",
    "        database= \"Lab.14\",\n",
    "        user= \"postgres\",\n",
    "        password= \"admin\",\n",
    "        host= \"localhost\",\n",
    "        port= \"5432\"\n",
    "    )\n",
    "except OperationalError as e:\n",
    "    if e.pgcode == errorcodes.INVALID_PASSWORD:\n",
    "        print(\"La contraseña es erronea\")\n",
    "    elif e.pgcode == errorcodes.CONNECTION_EXCEPTION:\n",
    "        print(\"Error de conexion\")\n",
    "    else:\n",
    "        print(f\"Ocurrió el error {e}\")"
   ]
  },
  {
   "cell_type": "markdown",
   "metadata": {},
   "source": [
    "TABLA CIELO"
   ]
  },
  {
   "cell_type": "code",
   "execution_count": 64,
   "metadata": {},
   "outputs": [],
   "source": [
    "cursor= conexion.cursor()\n",
    "query_creacion= \"\"\"\n",
    "CREATE TABLE IF NOT EXISTS cielo(\n",
    "    cielo VARCHAR(100),\n",
    "    id_cielo INT PRIMARY KEY\n",
    "    \n",
    ");\n",
    "\"\"\"\n",
    "cursor.execute(query_creacion)   \n",
    "conexion.commit()"
   ]
  },
  {
   "cell_type": "code",
   "execution_count": 65,
   "metadata": {},
   "outputs": [],
   "source": [
    "lista_de_tuplas=[]\n",
    "for fila in df_cielo.values:\n",
    "    lista_de_tuplas.append(tuple(fila))\n"
   ]
  },
  {
   "cell_type": "code",
   "execution_count": 66,
   "metadata": {},
   "outputs": [],
   "source": [
    "     \n",
    "query_insercion= \"INSERT INTO cielo (cielo, id_cielo) VALUES (%s, %s);\"      #%s es como el format de los strings (la f)\n",
    "\n",
    "cursor.executemany(query_insercion, lista_de_tuplas)                 #Executemany es para poder insertar varios valores\n",
    "conexion.commit()"
   ]
  },
  {
   "cell_type": "markdown",
   "metadata": {},
   "source": [
    "TABLA AVISOS"
   ]
  },
  {
   "cell_type": "code",
   "execution_count": 67,
   "metadata": {},
   "outputs": [],
   "source": [
    "cursor= conexion.cursor()\n",
    "query_creacion= \"\"\"\n",
    "CREATE TABLE IF NOT EXISTS avisos(\n",
    "    avisos VARCHAR(100),\n",
    "    id_avisos INT PRIMARY KEY\n",
    "    \n",
    ");\n",
    "\"\"\"\n",
    "cursor.execute(query_creacion)   \n",
    "conexion.commit()"
   ]
  },
  {
   "cell_type": "code",
   "execution_count": 68,
   "metadata": {},
   "outputs": [],
   "source": [
    "lista_de_tuplas=[]\n",
    "for fila in df_avisos.values:\n",
    "    lista_de_tuplas.append(tuple(fila))\n"
   ]
  },
  {
   "cell_type": "code",
   "execution_count": 69,
   "metadata": {},
   "outputs": [],
   "source": [
    "     \n",
    "query_insercion= \"INSERT INTO avisos (avisos, id_avisos) VALUES (%s, %s);\"      #%s es como el format de los strings (la f)\n",
    "\n",
    "cursor.executemany(query_insercion, lista_de_tuplas)                 #Executemany es para poder insertar varios valores\n",
    "conexion.commit()"
   ]
  },
  {
   "cell_type": "markdown",
   "metadata": {},
   "source": [
    "TABLA CATEGORIA"
   ]
  },
  {
   "cell_type": "code",
   "execution_count": 70,
   "metadata": {},
   "outputs": [],
   "source": [
    "cursor= conexion.cursor()\n",
    "query_creacion= \"\"\"\n",
    "CREATE TABLE IF NOT EXISTS categorias(\n",
    "    categorias VARCHAR(100),\n",
    "    id_categorias INT PRIMARY KEY\n",
    "    \n",
    ");\n",
    "\"\"\"\n",
    "cursor.execute(query_creacion)   \n",
    "conexion.commit()"
   ]
  },
  {
   "cell_type": "code",
   "execution_count": 71,
   "metadata": {},
   "outputs": [],
   "source": [
    "lista_de_tuplas=[]\n",
    "for fila in df_categorias.values:\n",
    "    lista_de_tuplas.append(tuple(fila))\n"
   ]
  },
  {
   "cell_type": "code",
   "execution_count": 72,
   "metadata": {},
   "outputs": [],
   "source": [
    "     \n",
    "query_insercion= \"INSERT INTO categorias (categorias, id_categorias) VALUES (%s, %s);\"      #%s es como el format de los strings (la f)\n",
    "\n",
    "cursor.executemany(query_insercion, lista_de_tuplas)                 #Executemany es para poder insertar varios valores\n",
    "conexion.commit()"
   ]
  },
  {
   "cell_type": "markdown",
   "metadata": {},
   "source": [
    "TABLA ESTADO"
   ]
  },
  {
   "cell_type": "code",
   "execution_count": 73,
   "metadata": {},
   "outputs": [],
   "source": [
    "cursor= conexion.cursor()\n",
    "query_creacion= \"\"\"\n",
    "CREATE TABLE IF NOT EXISTS estados(\n",
    "    estados VARCHAR(100),\n",
    "    id_estados INT PRIMARY KEY\n",
    "    \n",
    ");\n",
    "\"\"\"\n",
    "cursor.execute(query_creacion)   \n",
    "conexion.commit()"
   ]
  },
  {
   "cell_type": "code",
   "execution_count": 74,
   "metadata": {},
   "outputs": [],
   "source": [
    "lista_de_tuplas=[]\n",
    "for fila in df_estados.values:\n",
    "    lista_de_tuplas.append(tuple(fila))\n"
   ]
  },
  {
   "cell_type": "code",
   "execution_count": 75,
   "metadata": {},
   "outputs": [],
   "source": [
    "     \n",
    "query_insercion= \"INSERT INTO estados (estados, id_estados) VALUES (%s, %s);\"      #%s es como el format de los strings (la f)\n",
    "\n",
    "cursor.executemany(query_insercion, lista_de_tuplas)                 #Executemany es para poder insertar varios valores\n",
    "conexion.commit()"
   ]
  },
  {
   "cell_type": "markdown",
   "metadata": {},
   "source": [
    "TABLA MUNICIPIO"
   ]
  },
  {
   "cell_type": "code",
   "execution_count": 80,
   "metadata": {},
   "outputs": [],
   "source": [
    "cursor= conexion.cursor()\n",
    "query_creacion= \"\"\"\n",
    "CREATE TABLE IF NOT EXISTS municipios(\n",
    "    nombre_municipio VARCHAR(100),\n",
    "    latitud NUMERIC(8,6),\n",
    "    longitud NUMERIC(8,6),\n",
    "    id_municipio INT PRIMARY KEY\n",
    "    \n",
    ");\n",
    "\"\"\"\n",
    "cursor.execute(query_creacion)   \n",
    "conexion.commit()"
   ]
  },
  {
   "cell_type": "code",
   "execution_count": 81,
   "metadata": {},
   "outputs": [],
   "source": [
    "lista_de_tuplas=[]\n",
    "for fila in df_municipios1.values:\n",
    "    lista_de_tuplas.append(tuple(fila))\n"
   ]
  },
  {
   "cell_type": "code",
   "execution_count": 82,
   "metadata": {},
   "outputs": [],
   "source": [
    "     \n",
    "query_insercion= \"INSERT INTO municipios (nombre_municipio, latitud, longitud, id_municipio) VALUES (%s, %s, %s, %s);\"      #%s es como el format de los strings (la f)\n",
    "\n",
    "cursor.executemany(query_insercion, lista_de_tuplas)                 #Executemany es para poder insertar varios valores\n",
    "conexion.commit()"
   ]
  },
  {
   "cell_type": "markdown",
   "metadata": {},
   "source": [
    "**AHORA TOCAN LAS QUE CUENTAN CON FOREIGN KEYS**"
   ]
  },
  {
   "cell_type": "code",
   "execution_count": null,
   "metadata": {},
   "outputs": [],
   "source": [
    "cursor= conexion.cursor()\n",
    "query_creacion= \"\"\"\n",
    "CREATE TABLE IF NOT EXISTS tiempo(\n",
    "    fecha TIMESTAMP,\n",
    "    temperatura_°c INT,\n",
    "    precipitacion_mm NUMERIC(8,6),\n",
    "    humedad INT,\n",
    "    id_avisos INT,\n",
    "    id_cielo INT,\n",
    "    id_municipios INT,\n",
    "    id_tiempo INT PRIMARY KEY,\n",
    "FOREIGN KEY (id_municipios) REFERENCES municipios(id_municipios) ON DELETE RESTRICT ON UPDATE CASCADE,\n",
    "FOREIGN KEY (id_cielo) REFERENCES cielo(id_cielo) ON DELETE RESTRICT ON UPDATE CASCADE,\n",
    "FOREIGN KEY (id_avisos) REFERENCES avisos(id_avisos) ON DELETE RESTRICT ON UPDATE CASCADE\n",
    ");\n",
    "\"\"\"\n",
    "cursor.execute(query_creacion)   \n",
    "conexion.commit()"
   ]
  },
  {
   "cell_type": "code",
   "execution_count": null,
   "metadata": {},
   "outputs": [],
   "source": [
    "lista_de_tuplas=[]\n",
    "for fila in df_tiempo.values:\n",
    "    lista_de_tuplas.append(tuple(fila))\n"
   ]
  },
  {
   "cell_type": "code",
   "execution_count": null,
   "metadata": {},
   "outputs": [
    {
     "ename": "TypeError",
     "evalue": "not all arguments converted during string formatting",
     "output_type": "error",
     "traceback": [
      "\u001b[1;31m---------------------------------------------------------------------------\u001b[0m\n",
      "\u001b[1;31mTypeError\u001b[0m                                 Traceback (most recent call last)\n",
      "Cell \u001b[1;32mIn[73], line 3\u001b[0m\n",
      "\u001b[0;32m      1\u001b[0m query_insercion\u001b[38;5;241m=\u001b[39m \u001b[38;5;124m\"\u001b[39m\u001b[38;5;124mINSERT INTO tiempo (fecha, temperatura_°c, precipitacion_mm, humedad, id_avisos, id_cielo, id_municipios) VALUES (\u001b[39m\u001b[38;5;132;01m%s\u001b[39;00m\u001b[38;5;124m, \u001b[39m\u001b[38;5;132;01m%s\u001b[39;00m\u001b[38;5;124m, \u001b[39m\u001b[38;5;132;01m%s\u001b[39;00m\u001b[38;5;124m, \u001b[39m\u001b[38;5;132;01m%s\u001b[39;00m\u001b[38;5;124m, \u001b[39m\u001b[38;5;132;01m%s\u001b[39;00m\u001b[38;5;124m, \u001b[39m\u001b[38;5;132;01m%s\u001b[39;00m\u001b[38;5;124m, \u001b[39m\u001b[38;5;132;01m%s\u001b[39;00m\u001b[38;5;124m);\u001b[39m\u001b[38;5;124m\"\u001b[39m      \u001b[38;5;66;03m#%s es como el format de los strings (la f)\u001b[39;00m\n",
      "\u001b[1;32m----> 3\u001b[0m \u001b[43mcursor\u001b[49m\u001b[38;5;241;43m.\u001b[39;49m\u001b[43mexecutemany\u001b[49m\u001b[43m(\u001b[49m\u001b[43mquery_insercion\u001b[49m\u001b[43m,\u001b[49m\u001b[43m \u001b[49m\u001b[43mlista_de_tuplas\u001b[49m\u001b[43m)\u001b[49m                 \u001b[38;5;66;03m#Executemany es para poder insertar varios valores\u001b[39;00m\n",
      "\u001b[0;32m      4\u001b[0m conexion\u001b[38;5;241m.\u001b[39mcommit()\n",
      "\n",
      "\u001b[1;31mTypeError\u001b[0m: not all arguments converted during string formatting"
     ]
    }
   ],
   "source": [
    "     \n",
    "query_insercion= \"INSERT INTO tiempo (fecha, temperatura_°c, precipitacion_mm, humedad, id_avisos, id_cielo, id_municipios) VALUES (%s, %s, %s, %s, %s, %s, %s);\"      #%s es como el format de los strings (la f)\n",
    "\n",
    "cursor.executemany(query_insercion, lista_de_tuplas)                 #Executemany es para poder insertar varios valores\n",
    "conexion.commit()"
   ]
  },
  {
   "cell_type": "markdown",
   "metadata": {},
   "source": [
    "TABLA LUGAR"
   ]
  },
  {
   "cell_type": "code",
   "execution_count": null,
   "metadata": {},
   "outputs": [],
   "source": [
    "df_lugar['id_municipio'].fillna(-1, inplace=True)"
   ]
  },
  {
   "cell_type": "code",
   "execution_count": null,
   "metadata": {},
   "outputs": [],
   "source": [
    "cursor= conexion.cursor()\n",
    "query_creacion= \"\"\"\n",
    "CREATE TABLE IF NOT EXISTS lugar(\n",
    "    nombre VARCHAR(100),\n",
    "    distancia DOUBLE PRECISION,\n",
    "    id_municipio INT,\n",
    "    id_categoria INT,\n",
    "    id_estados INT,\n",
    "    id_lugar INT PRIMARY KEY,\n",
    "FOREIGN KEY (id_municipio) REFERENCES municipios(id_municipios) ON DELETE RESTRICT ON UPDATE CASCADE,\n",
    "FOREIGN KEY (id_categoria) REFERENCES categorias(id_categorias) ON DELETE RESTRICT ON UPDATE CASCADE,\n",
    "FOREIGN KEY (id_estados) REFERENCES estados(id_estados) ON DELETE RESTRICT ON UPDATE CASCADE\n",
    ");\n",
    "\"\"\"\n",
    "cursor.execute(query_creacion)   \n",
    "conexion.commit()"
   ]
  },
  {
   "cell_type": "code",
   "execution_count": null,
   "metadata": {},
   "outputs": [],
   "source": [
    "lista_de_tuplas=[]\n",
    "for fila in df_lugar.values:\n",
    "    lista_de_tuplas.append(tuple(fila))\n"
   ]
  },
  {
   "cell_type": "code",
   "execution_count": null,
   "metadata": {},
   "outputs": [
    {
     "ename": "ForeignKeyViolation",
     "evalue": "inserción o actualización en la tabla «lugar» viola la llave foránea «lugar_id_municipio_fkey»\nDETAIL:  La llave (id_municipio)=(-1) no está presente en la tabla «municipios».\n",
     "output_type": "error",
     "traceback": [
      "\u001b[1;31m---------------------------------------------------------------------------\u001b[0m\n",
      "\u001b[1;31mForeignKeyViolation\u001b[0m                       Traceback (most recent call last)\n",
      "Cell \u001b[1;32mIn[93], line 3\u001b[0m\n",
      "\u001b[0;32m      1\u001b[0m query_insercion\u001b[38;5;241m=\u001b[39m \u001b[38;5;124m\"\u001b[39m\u001b[38;5;124mINSERT INTO lugar (nombre, distancia, id_municipio, id_categoria, id_estados, id_lugar) VALUES (\u001b[39m\u001b[38;5;132;01m%s\u001b[39;00m\u001b[38;5;124m, \u001b[39m\u001b[38;5;132;01m%s\u001b[39;00m\u001b[38;5;124m, \u001b[39m\u001b[38;5;132;01m%s\u001b[39;00m\u001b[38;5;124m, \u001b[39m\u001b[38;5;132;01m%s\u001b[39;00m\u001b[38;5;124m, \u001b[39m\u001b[38;5;132;01m%s\u001b[39;00m\u001b[38;5;124m, \u001b[39m\u001b[38;5;132;01m%s\u001b[39;00m\u001b[38;5;124m);\u001b[39m\u001b[38;5;124m\"\u001b[39m      \u001b[38;5;66;03m#%s es como el format de los strings (la f)\u001b[39;00m\n",
      "\u001b[1;32m----> 3\u001b[0m \u001b[43mcursor\u001b[49m\u001b[38;5;241;43m.\u001b[39;49m\u001b[43mexecutemany\u001b[49m\u001b[43m(\u001b[49m\u001b[43mquery_insercion\u001b[49m\u001b[43m,\u001b[49m\u001b[43m \u001b[49m\u001b[43mlista_de_tuplas\u001b[49m\u001b[43m)\u001b[49m                 \u001b[38;5;66;03m#Executemany es para poder insertar varios valores\u001b[39;00m\n",
      "\u001b[0;32m      4\u001b[0m conexion\u001b[38;5;241m.\u001b[39mcommit()\n",
      "\n",
      "\u001b[1;31mForeignKeyViolation\u001b[0m: inserción o actualización en la tabla «lugar» viola la llave foránea «lugar_id_municipio_fkey»\n",
      "DETAIL:  La llave (id_municipio)=(-1) no está presente en la tabla «municipios».\n"
     ]
    }
   ],
   "source": [
    "     \n",
    "query_insercion= \"INSERT INTO lugar (nombre, distancia, id_municipio, id_categoria, id_estados, id_lugar) VALUES (%s, %s, %s, %s, %s, %s);\"      #%s es como el format de los strings (la f)\n",
    "\n",
    "cursor.executemany(query_insercion, lista_de_tuplas)                 #Executemany es para poder insertar varios valores\n",
    "conexion.commit()"
   ]
  },
  {
   "cell_type": "markdown",
   "metadata": {},
   "source": [
    "**RAZONES DE ERROR:**  \n",
    "  \n",
    "- El id_municipio al ser creado a mano, si se introduce en tabla tiempo y lugar, genera nulos porque son 176 ids y 900 y pico filas (Lo que habría que hacer es coger el id_localizacion que tiene la misma longitud al venir de aemet)(Como tal la tabla municipios sale bien pero sería conveniente cambiar el id a id_localizacion)  \n",
    "  \n",
    "- En la tabla Tiempo creo que fecha me está causando el error de que no se hayan convertido todos los argumentos durante el string formatting (+ el id_municipio que genera nulos como ya he dicho)  \n",
    "  \n",
    "- En la tabla LUGAR mi problema principal es por culpa de los nulos de id_municipio hasta donde yo sé  "
   ]
  }
 ],
 "metadata": {
  "kernelspec": {
   "display_name": "Python 3",
   "language": "python",
   "name": "python3"
  },
  "language_info": {
   "codemirror_mode": {
    "name": "ipython",
    "version": 3
   },
   "file_extension": ".py",
   "mimetype": "text/x-python",
   "name": "python",
   "nbconvert_exporter": "python",
   "pygments_lexer": "ipython3",
   "version": "3.11.9"
  }
 },
 "nbformat": 4,
 "nbformat_minor": 2
}
