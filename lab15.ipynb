{
 "cells": [
  {
   "cell_type": "code",
   "execution_count": 1,
   "metadata": {},
   "outputs": [],
   "source": [
    "import pandas as pd\n",
    "import re\n",
    "from datetime import datetime\n",
    "import psycopg2\n",
    "from psycopg2 import OperationalError, errorcodes, errors"
   ]
  },
  {
   "cell_type": "code",
   "execution_count": 62,
   "metadata": {},
   "outputs": [],
   "source": [
    "try:\n",
    "    conexion= psycopg2.connect(\n",
    "        database= \"Lab.14\",\n",
    "        user= \"postgres\",\n",
    "        password= \"admin\",\n",
    "        host= \"localhost\",\n",
    "        port= \"5432\"\n",
    "    )\n",
    "except OperationalError as e:\n",
    "    if e.pgcode == errorcodes.INVALID_PASSWORD:\n",
    "        print(\"La contraseña es erronea\")\n",
    "    elif e.pgcode == errorcodes.CONNECTION_EXCEPTION:\n",
    "        print(\"Error de conexion\")\n",
    "    else:\n",
    "        print(f\"Ocurrió el error {e}\")"
   ]
  },
  {
   "cell_type": "markdown",
   "metadata": {},
   "source": [
    "***TODOS LAS QUERIES QUE ESTÁN HECHAS DISTINTAS ES POR LA FALTA DE ESOS DATOS EN MI BASE DE DATOS***"
   ]
  },
  {
   "cell_type": "markdown",
   "metadata": {},
   "source": [
    "## Ejercicio 1. Queries Generales\n",
    "\n",
    "1.1. Calcula el promedio de temperatura.\n",
    "\n"
   ]
  },
  {
   "cell_type": "code",
   "execution_count": 5,
   "metadata": {},
   "outputs": [
    {
     "data": {
      "text/plain": [
       "(Decimal('21.2498387720882239'),)"
      ]
     },
     "execution_count": 5,
     "metadata": {},
     "output_type": "execute_result"
    }
   ],
   "source": [
    "cursor= conexion.cursor()\n",
    "query_promedio= \"\"\"\n",
    "SELECT AVG(temperatura_°c)\n",
    "FROM tiempo t;\n",
    "\"\"\"\n",
    "cursor.execute(query_promedio)   \n",
    "cursor.fetchone()"
   ]
  },
  {
   "cell_type": "markdown",
   "metadata": {},
   "source": [
    "1.2. Obtén los municipios en los cuales coincidan las medias de la sensación térmica y de la temperatura. \n",
    "\n"
   ]
  },
  {
   "cell_type": "markdown",
   "metadata": {},
   "source": [
    "Lo comento porque no tengo esa variable y para que no me de error"
   ]
  },
  {
   "cell_type": "code",
   "execution_count": null,
   "metadata": {},
   "outputs": [],
   "source": [
    "# cursor=conexion.cursor()\n",
    "# query_coincidencia=\"\"\"\n",
    "# SELECT  m.\"nombre_municipio\", AVG(temperatura_°c),  AVG(sensacion_termica)\n",
    "# FROM tiempo t\n",
    "# INNER JOIN municipios m ON m.\"id_municipio\" = t.\"id_municipio\"\n",
    "# GROUP BY id_municipio\n",
    "# HAVING AVG(temperatura_°c) = AVG(sensacion_termica)\n",
    "\n",
    "# \"\"\""
   ]
  },
  {
   "cell_type": "markdown",
   "metadata": {},
   "source": [
    "1.3. Obtén el local más cercano de cada municipio\n",
    "\n"
   ]
  },
  {
   "cell_type": "code",
   "execution_count": 49,
   "metadata": {},
   "outputs": [
    {
     "data": {
      "text/html": [
       "<div>\n",
       "<style scoped>\n",
       "    .dataframe tbody tr th:only-of-type {\n",
       "        vertical-align: middle;\n",
       "    }\n",
       "\n",
       "    .dataframe tbody tr th {\n",
       "        vertical-align: top;\n",
       "    }\n",
       "\n",
       "    .dataframe thead th {\n",
       "        text-align: right;\n",
       "    }\n",
       "</style>\n",
       "<table border=\"1\" class=\"dataframe\">\n",
       "  <thead>\n",
       "    <tr style=\"text-align: right;\">\n",
       "      <th></th>\n",
       "      <th>Municipio</th>\n",
       "      <th>Categorias</th>\n",
       "      <th>Distancia</th>\n",
       "    </tr>\n",
       "  </thead>\n",
       "  <tbody>\n",
       "    <tr>\n",
       "      <th>0</th>\n",
       "      <td>Robledo de Chavela</td>\n",
       "      <td>Park</td>\n",
       "      <td>977.0</td>\n",
       "    </tr>\n",
       "    <tr>\n",
       "      <th>1</th>\n",
       "      <td>Villanueva de la Cañada</td>\n",
       "      <td>Park</td>\n",
       "      <td>577.0</td>\n",
       "    </tr>\n",
       "    <tr>\n",
       "      <th>2</th>\n",
       "      <td>Collado Villalba</td>\n",
       "      <td>Park</td>\n",
       "      <td>210.0</td>\n",
       "    </tr>\n",
       "    <tr>\n",
       "      <th>3</th>\n",
       "      <td>Coslada</td>\n",
       "      <td>Park</td>\n",
       "      <td>70.0</td>\n",
       "    </tr>\n",
       "    <tr>\n",
       "      <th>4</th>\n",
       "      <td>Navacerrada</td>\n",
       "      <td>Park</td>\n",
       "      <td>95.0</td>\n",
       "    </tr>\n",
       "  </tbody>\n",
       "</table>\n",
       "</div>"
      ],
      "text/plain": [
       "                 Municipio Categorias  Distancia\n",
       "0       Robledo de Chavela       Park      977.0\n",
       "1  Villanueva de la Cañada       Park      577.0\n",
       "2         Collado Villalba       Park      210.0\n",
       "3                  Coslada       Park       70.0\n",
       "4              Navacerrada       Park       95.0"
      ]
     },
     "execution_count": 49,
     "metadata": {},
     "output_type": "execute_result"
    }
   ],
   "source": [
    "cursor = conexion.cursor()\n",
    "query_distancia=\"\"\" \n",
    "SELECT  m.nombre_municipio, categorias, MIN(l.distancia) AS distancia1\n",
    "FROM categorias c\n",
    "INNER JOIN lugar l ON l.id_categoria = c.id_categorias\n",
    "INNER JOIN municipios m ON l.id_municipio = m.id_municipio\n",
    "GROUP BY id_categorias, m.id_municipio\n",
    "\n",
    "\"\"\"\n",
    "cursor.execute(query_distancia)\n",
    "df_query3 = pd.DataFrame(cursor.fetchall(), columns=[\"Municipio\",\"Categorias\",\"Distancia\"])\n",
    "df_query3.head()\n",
    "#AHORA VUELVO  ESTE"
   ]
  },
  {
   "cell_type": "markdown",
   "metadata": {},
   "source": [
    "1.4. Localiza los municipios que posean algún localizador a una distancia mayor de 2000 y que posean al menos 25 locales.\n",
    "\n"
   ]
  },
  {
   "cell_type": "code",
   "execution_count": 50,
   "metadata": {},
   "outputs": [
    {
     "data": {
      "text/html": [
       "<div>\n",
       "<style scoped>\n",
       "    .dataframe tbody tr th:only-of-type {\n",
       "        vertical-align: middle;\n",
       "    }\n",
       "\n",
       "    .dataframe tbody tr th {\n",
       "        vertical-align: top;\n",
       "    }\n",
       "\n",
       "    .dataframe thead th {\n",
       "        text-align: right;\n",
       "    }\n",
       "</style>\n",
       "<table border=\"1\" class=\"dataframe\">\n",
       "  <thead>\n",
       "    <tr style=\"text-align: right;\">\n",
       "      <th></th>\n",
       "      <th>Municipio</th>\n",
       "      <th>Numero_locales</th>\n",
       "      <th>Distancia</th>\n",
       "    </tr>\n",
       "  </thead>\n",
       "  <tbody>\n",
       "    <tr>\n",
       "      <th>0</th>\n",
       "      <td>Majadahonda</td>\n",
       "      <td>27</td>\n",
       "      <td>28639.0</td>\n",
       "    </tr>\n",
       "    <tr>\n",
       "      <th>1</th>\n",
       "      <td>Torrejón de Ardoz</td>\n",
       "      <td>30</td>\n",
       "      <td>36768.0</td>\n",
       "    </tr>\n",
       "    <tr>\n",
       "      <th>2</th>\n",
       "      <td>Madrid</td>\n",
       "      <td>122</td>\n",
       "      <td>138753.0</td>\n",
       "    </tr>\n",
       "    <tr>\n",
       "      <th>3</th>\n",
       "      <td>Alcobendas</td>\n",
       "      <td>53</td>\n",
       "      <td>62547.0</td>\n",
       "    </tr>\n",
       "    <tr>\n",
       "      <th>4</th>\n",
       "      <td>Alcalá de Henares</td>\n",
       "      <td>52</td>\n",
       "      <td>49584.0</td>\n",
       "    </tr>\n",
       "  </tbody>\n",
       "</table>\n",
       "</div>"
      ],
      "text/plain": [
       "           Municipio  Numero_locales  Distancia\n",
       "0        Majadahonda              27    28639.0\n",
       "1  Torrejón de Ardoz              30    36768.0\n",
       "2             Madrid             122   138753.0\n",
       "3         Alcobendas              53    62547.0\n",
       "4  Alcalá de Henares              52    49584.0"
      ]
     },
     "execution_count": 50,
     "metadata": {},
     "output_type": "execute_result"
    }
   ],
   "source": [
    "cursor = conexion.cursor()\n",
    "query_distancia=\"\"\" \n",
    "SELECT * FROM (\n",
    "            SELECT  m.nombre_municipio AS nombre_mun, count(c.id_categorias) AS numero_locales, sum(distancia) AS total_distancia\n",
    "                FROM categorias c\n",
    "                INNER JOIN lugar l ON l.id_categoria = c.id_categorias\n",
    "                INNER JOIN municipios m ON l.id_municipio = m.id_municipio\n",
    "                GROUP BY m.id_municipio)\n",
    "WHERE (total_distancia > 2000 AND numero_locales > 25);\n",
    "\"\"\"\n",
    "cursor.execute(query_distancia)\n",
    "df_query4 = pd.DataFrame(cursor.fetchall(), columns=[\"Municipio\",\"Numero_locales\",\"Distancia\"])\n",
    "df_query4.head()"
   ]
  },
  {
   "cell_type": "markdown",
   "metadata": {},
   "source": [
    "1.5. Teniendo en cuenta que la lluvia se considera leve con entre 6 y 20 mm, moderada con una media de entre 21 y 40 mm, fuerte con media de entre 41 y 70 mm y muy fuerte entre 71 y 120 mm. Calcula cuántas luvias de cada tipo tenemos en cada uno de los días. Este ejercicio debes solucionarlo con la sentencia CASE de SQL (no la hemos visto en clase, por lo que tendrás que buscar la documentación). \n",
    "\n"
   ]
  },
  {
   "cell_type": "code",
   "execution_count": 51,
   "metadata": {},
   "outputs": [
    {
     "data": {
      "text/html": [
       "<div>\n",
       "<style scoped>\n",
       "    .dataframe tbody tr th:only-of-type {\n",
       "        vertical-align: middle;\n",
       "    }\n",
       "\n",
       "    .dataframe tbody tr th {\n",
       "        vertical-align: top;\n",
       "    }\n",
       "\n",
       "    .dataframe thead th {\n",
       "        text-align: right;\n",
       "    }\n",
       "</style>\n",
       "<table border=\"1\" class=\"dataframe\">\n",
       "  <thead>\n",
       "    <tr style=\"text-align: right;\">\n",
       "      <th></th>\n",
       "      <th>Precipitaciones</th>\n",
       "      <th>Fecha</th>\n",
       "      <th>Calificacion</th>\n",
       "    </tr>\n",
       "  </thead>\n",
       "  <tbody>\n",
       "    <tr>\n",
       "      <th>0</th>\n",
       "      <td>3.2</td>\n",
       "      <td>2024-08-29 15:00:00</td>\n",
       "      <td>sin lluvia</td>\n",
       "    </tr>\n",
       "    <tr>\n",
       "      <th>1</th>\n",
       "      <td>34.8</td>\n",
       "      <td>2024-08-29 19:00:00</td>\n",
       "      <td>media</td>\n",
       "    </tr>\n",
       "    <tr>\n",
       "      <th>2</th>\n",
       "      <td>46.3</td>\n",
       "      <td>2024-08-29 17:00:00</td>\n",
       "      <td>fuerte</td>\n",
       "    </tr>\n",
       "    <tr>\n",
       "      <th>3</th>\n",
       "      <td>14.1</td>\n",
       "      <td>2024-08-29 16:00:00</td>\n",
       "      <td>leve</td>\n",
       "    </tr>\n",
       "    <tr>\n",
       "      <th>4</th>\n",
       "      <td>0.0</td>\n",
       "      <td>2024-08-31 03:00:00</td>\n",
       "      <td>sin lluvia</td>\n",
       "    </tr>\n",
       "  </tbody>\n",
       "</table>\n",
       "</div>"
      ],
      "text/plain": [
       "   Precipitaciones                Fecha Calificacion\n",
       "0              3.2  2024-08-29 15:00:00   sin lluvia\n",
       "1             34.8  2024-08-29 19:00:00        media\n",
       "2             46.3  2024-08-29 17:00:00       fuerte\n",
       "3             14.1  2024-08-29 16:00:00         leve\n",
       "4              0.0  2024-08-31 03:00:00   sin lluvia"
      ]
     },
     "execution_count": 51,
     "metadata": {},
     "output_type": "execute_result"
    }
   ],
   "source": [
    "cursor = conexion.cursor()\n",
    "query_lluvia=\"\"\"\n",
    "SELECT sum(precipitacion_mm), fecha,\n",
    "CASE\n",
    "    WHEN sum(precipitacion_mm) < 6 THEN 'sin lluvia'\n",
    "    WHEN sum(precipitacion_mm) >= 6 AND sum(precipitacion_mm) <= 20 THEN 'leve'\n",
    "    WHEN sum(precipitacion_mm) >= 21 AND sum(precipitacion_mm) <= 40 THEN 'media'\n",
    "    WHEN sum(precipitacion_mm) >= 41 AND sum(precipitacion_mm) <= 70 THEN 'fuerte'\n",
    "    WHEN sum(precipitacion_mm) >= 71 AND sum(precipitacion_mm) <= 120 THEN 'muy fuerte'\n",
    "    ELSE 'torrencial'\n",
    "    END AS lluvia_range\n",
    "FROM tiempo t\n",
    "GROUP BY fecha;\n",
    "\"\"\"\n",
    "cursor.execute(query_lluvia)\n",
    "df_query5 = pd.DataFrame(cursor.fetchall(), columns=[\"Precipitaciones\",\"Fecha\",\"Calificacion\"])\n",
    "df_query5.head()"
   ]
  },
  {
   "cell_type": "markdown",
   "metadata": {},
   "source": [
    "## Ejercicio 2. Vistas\n",
    "\n",
    "2.1. Crea una vista que muestre la información de los locales que tengan incluido el código postal en su dirección. \n",
    "\n",
    "Busca los municipios que no tengan lat y lon"
   ]
  },
  {
   "cell_type": "code",
   "execution_count": 56,
   "metadata": {},
   "outputs": [
    {
     "data": {
      "text/html": [
       "<div>\n",
       "<style scoped>\n",
       "    .dataframe tbody tr th:only-of-type {\n",
       "        vertical-align: middle;\n",
       "    }\n",
       "\n",
       "    .dataframe tbody tr th {\n",
       "        vertical-align: top;\n",
       "    }\n",
       "\n",
       "    .dataframe thead th {\n",
       "        text-align: right;\n",
       "    }\n",
       "</style>\n",
       "<table border=\"1\" class=\"dataframe\">\n",
       "  <thead>\n",
       "    <tr style=\"text-align: right;\">\n",
       "      <th></th>\n",
       "      <th>Nombre municipio</th>\n",
       "      <th>Latitud</th>\n",
       "      <th>Longitud</th>\n",
       "    </tr>\n",
       "  </thead>\n",
       "  <tbody>\n",
       "  </tbody>\n",
       "</table>\n",
       "</div>"
      ],
      "text/plain": [
       "Empty DataFrame\n",
       "Columns: [Nombre municipio, Latitud, Longitud]\n",
       "Index: []"
      ]
     },
     "execution_count": 56,
     "metadata": {},
     "output_type": "execute_result"
    }
   ],
   "source": [
    "#CREATE  VIEW VistaGastosCanciones5 AS\n",
    "cursor= conexion.cursor()\n",
    "query_muns_lat=\"\"\"\n",
    "CREATE VIEW VistaMunicipiosNoLatLong AS\n",
    "SELECT nombre_municipio, latitud, longitud\n",
    "FROM municipios m\n",
    "WHERE latitud = NULL AND longitud = NULL;\n",
    "\"\"\"\n",
    "cursor.execute(query_muns_lat)\n",
    "\n",
    "query_vista=\"\"\" \n",
    "SELECT * FROM VistaMunicipiosNoLatLong;\n",
    "\"\"\"\n",
    "cursor.execute(query_vista)\n",
    "df_query6 = pd.DataFrame(cursor.fetchall(), columns=[\"Nombre municipio\", \"Latitud\", \"Longitud\"])\n",
    "df_query6.head()"
   ]
  },
  {
   "cell_type": "markdown",
   "metadata": {},
   "source": [
    "2.2. Crea una vista con los locales que tienen más de una categoría asociada.\n",
    "\n"
   ]
  },
  {
   "cell_type": "code",
   "execution_count": 58,
   "metadata": {},
   "outputs": [
    {
     "data": {
      "text/html": [
       "<div>\n",
       "<style scoped>\n",
       "    .dataframe tbody tr th:only-of-type {\n",
       "        vertical-align: middle;\n",
       "    }\n",
       "\n",
       "    .dataframe tbody tr th {\n",
       "        vertical-align: top;\n",
       "    }\n",
       "\n",
       "    .dataframe thead th {\n",
       "        text-align: right;\n",
       "    }\n",
       "</style>\n",
       "<table border=\"1\" class=\"dataframe\">\n",
       "  <thead>\n",
       "    <tr style=\"text-align: right;\">\n",
       "      <th></th>\n",
       "      <th>Local</th>\n",
       "      <th>Categoria</th>\n",
       "    </tr>\n",
       "  </thead>\n",
       "  <tbody>\n",
       "  </tbody>\n",
       "</table>\n",
       "</div>"
      ],
      "text/plain": [
       "Empty DataFrame\n",
       "Columns: [Local, Categoria]\n",
       "Index: []"
      ]
     },
     "execution_count": 58,
     "metadata": {},
     "output_type": "execute_result"
    }
   ],
   "source": [
    "cursor= conexion.cursor()\n",
    "query_cat_repe=\"\"\"\n",
    "CREATE VIEW NumeroCatsDoble AS\n",
    "SELECT id_categorias, count(categorias)\n",
    "FROM categorias\n",
    "GROUP BY id_categorias\n",
    "HAVING count(categorias) != 1\n",
    "\"\"\"\n",
    "\n",
    "cursor.execute(query_cat_repe)\n",
    "\n",
    "query_vista2=\"\"\" \n",
    "SELECT * FROM NumeroCatsDoble;\n",
    "\"\"\"\n",
    "cursor.execute(query_vista2)\n",
    "df_query7 = pd.DataFrame(cursor.fetchall(), columns=[\"Local\", \"Categoria\"])\n",
    "df_query7.head()"
   ]
  },
  {
   "cell_type": "markdown",
   "metadata": {},
   "source": [
    "2.3. Crea una vista que muestre el municipio con la temperatura más alta de cada día\n",
    "\n"
   ]
  },
  {
   "cell_type": "code",
   "execution_count": 60,
   "metadata": {},
   "outputs": [
    {
     "data": {
      "text/html": [
       "<div>\n",
       "<style scoped>\n",
       "    .dataframe tbody tr th:only-of-type {\n",
       "        vertical-align: middle;\n",
       "    }\n",
       "\n",
       "    .dataframe tbody tr th {\n",
       "        vertical-align: top;\n",
       "    }\n",
       "\n",
       "    .dataframe thead th {\n",
       "        text-align: right;\n",
       "    }\n",
       "</style>\n",
       "<table border=\"1\" class=\"dataframe\">\n",
       "  <thead>\n",
       "    <tr style=\"text-align: right;\">\n",
       "      <th></th>\n",
       "      <th>Municipio</th>\n",
       "      <th>TemperaturaMAx</th>\n",
       "    </tr>\n",
       "  </thead>\n",
       "  <tbody>\n",
       "    <tr>\n",
       "      <th>0</th>\n",
       "      <td>Villaviciosa de Odón</td>\n",
       "      <td>25</td>\n",
       "    </tr>\n",
       "    <tr>\n",
       "      <th>1</th>\n",
       "      <td>Collado Villalba</td>\n",
       "      <td>18</td>\n",
       "    </tr>\n",
       "    <tr>\n",
       "      <th>2</th>\n",
       "      <td>Madarcos</td>\n",
       "      <td>16</td>\n",
       "    </tr>\n",
       "    <tr>\n",
       "      <th>3</th>\n",
       "      <td>Sevilla la Nueva</td>\n",
       "      <td>19</td>\n",
       "    </tr>\n",
       "    <tr>\n",
       "      <th>4</th>\n",
       "      <td>Pozuelo del Rey</td>\n",
       "      <td>16</td>\n",
       "    </tr>\n",
       "  </tbody>\n",
       "</table>\n",
       "</div>"
      ],
      "text/plain": [
       "              Municipio  TemperaturaMAx\n",
       "0  Villaviciosa de Odón              25\n",
       "1      Collado Villalba              18\n",
       "2              Madarcos              16\n",
       "3      Sevilla la Nueva              19\n",
       "4       Pozuelo del Rey              16"
      ]
     },
     "execution_count": 60,
     "metadata": {},
     "output_type": "execute_result"
    }
   ],
   "source": [
    "cursor= conexion.cursor()\n",
    "query_temp=\"\"\"\n",
    "CREATE VIEW MunicipioTempAlta AS\n",
    "SELECT nombre_municipio, MAX(temperatura_°c) AS temperatura_max\n",
    "FROM tiempo t\n",
    "INNER JOIN municipios m ON t.id_municipio = m.id_municipio\n",
    "GROUP BY fecha, m.id_municipio\n",
    "\"\"\"\n",
    "cursor.execute(query_temp)\n",
    "\n",
    "query_vista3=\"\"\" \n",
    "SELECT * FROM MunicipioTempAlta;\n",
    "\"\"\"\n",
    "cursor.execute(query_vista3)\n",
    "\n",
    "df_query8 = pd.DataFrame(cursor.fetchall(), columns=[\"Municipio\", \"TemperaturaMAx\"])\n",
    "df_query8.head()"
   ]
  },
  {
   "cell_type": "markdown",
   "metadata": {},
   "source": [
    "2.4. Crea una vista con los municipios en los que haya una probabilidad de precipitación mayor del 100% durante mínimo 7 horas.\n",
    "\n"
   ]
  },
  {
   "cell_type": "code",
   "execution_count": null,
   "metadata": {},
   "outputs": [],
   "source": [
    "cursor= conexion.cursor()\n",
    "query_humedad=\"\"\"\n",
    "CREATE VIEW MunicipioHumedo AS\n",
    "SELECT nombre_municipio, \n",
    "FROM tiempo t\n",
    "INNER JOIN municipios m ON m.id_municipio = t.id_municipio\n",
    "WHERE humedad > 70 \n",
    "\"\"\"\n",
    "cursor.execute(query_humedad)\n",
    "\n",
    "query_vista4=\"\"\" \n",
    "SELECT * FROM MunicipioHumedo;\n",
    "\"\"\"\n",
    "cursor.execute(query_vista4)\n",
    "\n",
    "df_query9 = pd.DataFrame(cursor.fetchall(), columns=[\"Municipio\", \"TemperaturaMAx\"])\n",
    "df_query9.head()\n",
    "\n",
    "\n",
    "\n",
    "#LUEGO VUELVO A ESTE"
   ]
  },
  {
   "cell_type": "markdown",
   "metadata": {},
   "source": [
    "2.5. Obtén una lista con los parques de los municipios que tengan algún castillo."
   ]
  },
  {
   "cell_type": "code",
   "execution_count": 63,
   "metadata": {},
   "outputs": [
    {
     "data": {
      "text/html": [
       "<div>\n",
       "<style scoped>\n",
       "    .dataframe tbody tr th:only-of-type {\n",
       "        vertical-align: middle;\n",
       "    }\n",
       "\n",
       "    .dataframe tbody tr th {\n",
       "        vertical-align: top;\n",
       "    }\n",
       "\n",
       "    .dataframe thead th {\n",
       "        text-align: right;\n",
       "    }\n",
       "</style>\n",
       "<table border=\"1\" class=\"dataframe\">\n",
       "  <thead>\n",
       "    <tr style=\"text-align: right;\">\n",
       "      <th></th>\n",
       "      <th>Nombre_parque</th>\n",
       "    </tr>\n",
       "  </thead>\n",
       "  <tbody>\n",
       "  </tbody>\n",
       "</table>\n",
       "</div>"
      ],
      "text/plain": [
       "Empty DataFrame\n",
       "Columns: [Nombre_parque]\n",
       "Index: []"
      ]
     },
     "execution_count": 63,
     "metadata": {},
     "output_type": "execute_result"
    }
   ],
   "source": [
    "cursor= conexion.cursor()\n",
    "query_parques=\"\"\"\n",
    "CREATE VIEW ParqueCastillo AS\n",
    "SELECT l.nombre FROM municipios m \n",
    "INNER JOIN lugar l \n",
    "\t\tON l.id_municipio = m.id_municipio \n",
    "INNER JOIN categorias c  \n",
    "\t\tON c.id_categorias = l.id_categoria \n",
    "WHERE c.categorias LIKE 'Castle' AND c.categorias LIKE 'Park'\n",
    "\"\"\"\n",
    "cursor.execute(query_parques)\n",
    "query_vista5=\"\"\" \n",
    "SELECT * FROM ParqueCastillo;\n",
    "\"\"\"\n",
    "cursor.execute(query_vista5)\n",
    "\n",
    "df_query10 = pd.DataFrame(cursor.fetchall(), columns=[\"Nombre_parque\"])\n",
    "df_query10.head()"
   ]
  },
  {
   "cell_type": "markdown",
   "metadata": {},
   "source": [
    "## Ejercicio 3. Tablas Temporales\n",
    "\n",
    "3.1. Crea una tabla temporal que muestre cuántos días han pasado desde que se obtuvo la información de la tabla AEMET.\n",
    "\n"
   ]
  },
  {
   "cell_type": "code",
   "execution_count": null,
   "metadata": {},
   "outputs": [],
   "source": []
  },
  {
   "cell_type": "markdown",
   "metadata": {},
   "source": [
    "3.2. Crea una tabla temporal que muestre los locales que tienen más de una categoría asociada e indica el conteo de las mismas\n",
    "\n"
   ]
  },
  {
   "cell_type": "code",
   "execution_count": null,
   "metadata": {},
   "outputs": [],
   "source": []
  },
  {
   "cell_type": "markdown",
   "metadata": {},
   "source": [
    "3.3. Crea una tabla temporal que muestre los tipos de cielo para los cuales la probabilidad de precipitación mínima de los promedios de cada día es 5.\n"
   ]
  },
  {
   "cell_type": "code",
   "execution_count": null,
   "metadata": {},
   "outputs": [],
   "source": []
  },
  {
   "cell_type": "markdown",
   "metadata": {},
   "source": [
    "\n",
    "3.4. Crea una tabla temporal que muestre el tipo de cielo más y menos repetido por municipio."
   ]
  },
  {
   "cell_type": "code",
   "execution_count": null,
   "metadata": {},
   "outputs": [],
   "source": []
  },
  {
   "cell_type": "markdown",
   "metadata": {},
   "source": [
    "\n",
    "\n",
    "\n",
    "## Ejercicio 4. SUBQUERIES\n",
    "\n",
    "4.1. Necesitamos comprobar si hay algún municipio en el cual no tenga ningún local registrado.\n",
    "\n",
    "4.2. Averigua si hay alguna fecha en la que el cielo se encuente \"Muy nuboso con tormenta\".\n",
    "\n",
    "4.3. Encuentra los días en los que los avisos sean diferentes a \"Sin riesgo\".\n",
    "\n",
    "4.4. Selecciona el municipio con mayor número de locales.\n",
    "\n",
    "4.5. Obtén los municipios muya media de sensación térmica sea mayor que la media total.\n",
    "\n",
    "4.6. Selecciona los municipios con más de dos fuentes.\n",
    "\n",
    "4.7. Localiza la dirección de todos los estudios de cine que estén abiertod en el municipio de \"Madrid\".\n",
    "\n",
    "4.8. Encuentra la máxima temperatura para cada tipo de cielo.\n",
    "\n",
    "4.9. Muestra el número de locales por categoría que muy probablemente se encuentren abiertos.\n",
    "\n",
    "BONUS. 4.10. Encuentra los municipios que tengan más de 3 parques, los cuales se encuentren a una distancia menor de las coordenadas de su municipio correspondiente que la del Parque Pavia. Además, el cielo debe estar despejado a las 12.\n"
   ]
  }
 ],
 "metadata": {
  "kernelspec": {
   "display_name": "Python 3",
   "language": "python",
   "name": "python3"
  },
  "language_info": {
   "codemirror_mode": {
    "name": "ipython",
    "version": 3
   },
   "file_extension": ".py",
   "mimetype": "text/x-python",
   "name": "python",
   "nbconvert_exporter": "python",
   "pygments_lexer": "ipython3",
   "version": "3.11.9"
  }
 },
 "nbformat": 4,
 "nbformat_minor": 2
}
